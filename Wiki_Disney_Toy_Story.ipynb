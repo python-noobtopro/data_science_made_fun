{
 "cells": [
  {
   "cell_type": "markdown",
   "id": "ded2fbc6",
   "metadata": {},
   "source": [
    "###### In this problem set we are trying to scrape all Disney movie dataset like casts, budget, release date etc. from wiki (using BeautifulSoup Library) and store it as Python Dictionary to use it for analysing the Disney overall movie collections and other meaningful insights"
   ]
  },
  {
   "cell_type": "raw",
   "id": "e728ea1b",
   "metadata": {},
   "source": [
    "# Import Prerequisites"
   ]
  },
  {
   "cell_type": "code",
   "execution_count": 25,
   "id": "2d4aa4fd",
   "metadata": {},
   "outputs": [],
   "source": [
    "import requests\n",
    "from bs4 import BeautifulSoup as bs"
   ]
  },
  {
   "cell_type": "raw",
   "id": "8c98b805",
   "metadata": {},
   "source": [
    "# Get the url data and make a bs soup object"
   ]
  },
  {
   "cell_type": "code",
   "execution_count": 26,
   "id": "5474a165",
   "metadata": {},
   "outputs": [],
   "source": [
    "url = \"https://en.wikipedia.org/wiki/Toy_Story_3\"\n",
    "link = requests.get(url)\n",
    "soup = bs(link.content)"
   ]
  },
  {
   "cell_type": "code",
   "execution_count": null,
   "id": "826a1c1e",
   "metadata": {},
   "outputs": [],
   "source": [
    "# Start the tree search"
   ]
  },
  {
   "cell_type": "code",
   "execution_count": 101,
   "id": "7894c953",
   "metadata": {},
   "outputs": [],
   "source": [
    "search = soup.find(class_=\"infobox vevent\")\n",
    "tr_tag = search.find_all(\"tr\")\n",
    "# for i in tr_tag:\n",
    "#     print(i.prettify())"
   ]
  },
  {
   "cell_type": "code",
   "execution_count": null,
   "id": "b97d0fee",
   "metadata": {},
   "outputs": [],
   "source": [
    "# Now do some extra work to make  a dictionary (also make it arranged) and cleanups\n",
    "\n",
    "# Handling edge cases\n",
    "# 1. Replacing some unwanted values like \\xa0 with \"\" using .replace()\n",
    "# 2. Removing subs [] from the result\n",
    "# 3. Giving spaces wherever required by using strip=True and \" \" in beautifulsoup get_text() method"
   ]
  },
  {
   "cell_type": "code",
   "execution_count": 102,
   "id": "f59abacb",
   "metadata": {},
   "outputs": [
    {
     "data": {
      "text/plain": [
       "{'Title': 'Toy Story 3',\n",
       " 'Directed by': 'Lee Unkrich',\n",
       " 'Screenplay by': 'Michael Arndt',\n",
       " 'Story by': 'John Lasseter Andrew Stanton Lee Unkrich',\n",
       " 'Produced by': 'Darla K. Anderson',\n",
       " 'Starring': 'Tom Hanks Tim Allen Joan Cusack Don Rickles Wallace Shawn John Ratzenberger Estelle Harris Ned Beatty Michael Keaton Jodi Benson John Morris',\n",
       " 'Cinematography': 'Jeremy Lasky Kim White',\n",
       " 'Edited by': 'Ken Schretzmann',\n",
       " 'Music by': 'Randy Newman',\n",
       " 'Production companies': 'Walt Disney Pictures Pixar Animation Studios',\n",
       " 'Distributed by': 'Walt Disney Studios Motion Pictures',\n",
       " 'Release date': 'June12,2010 ( 2010-06-12 ) ( Taormina Film Fest ) June18,2010 ( 2010-06-18 ) (United States)',\n",
       " 'Running time': '103 minutes ',\n",
       " 'Country': 'United States',\n",
       " 'Language': 'English',\n",
       " 'Budget': '$200million ',\n",
       " 'Box office': '$1.067billion '}"
      ]
     },
     "execution_count": 102,
     "metadata": {},
     "output_type": "execute_result"
    }
   ],
   "source": [
    "movie_info = {}\n",
    "\n",
    "# def clean_values(rows):\n",
    "#     if rows.find(\"li\"):\n",
    "#         return [element.get_text(\" \", strip=True).replace(\"\\xa0\", \"\") for element in rows.find_all(\"li\")]\n",
    "#     else:\n",
    "#         return tags.find(\"td\").get_text(\" \", strip=True).replace(\"\\xa0\", \"\").replace(\"[1]\",\"\")\n",
    "for index, tags in enumerate(tr_tag):\n",
    "    if index == 0:\n",
    "        movie_info['Title'] = tags.find(\"th\").get_text()\n",
    "    elif index == 1:\n",
    "        continue\n",
    "    else:\n",
    "        keys = tags.find(\"th\").get_text(\" \", strip=True).replace(\"\\xa0\", \"\")\n",
    "        values = tags.find(\"td\").get_text(\" \", strip=True).replace(\"\\xa0\", \"\").replace(\"[1]\",\"\")\n",
    "        movie_info[keys] = values\n",
    "movie_info\n",
    " "
   ]
  }
 ],
 "metadata": {
  "kernelspec": {
   "display_name": "Python 3 (ipykernel)",
   "language": "python",
   "name": "python3"
  },
  "language_info": {
   "codemirror_mode": {
    "name": "ipython",
    "version": 3
   },
   "file_extension": ".py",
   "mimetype": "text/x-python",
   "name": "python",
   "nbconvert_exporter": "python",
   "pygments_lexer": "ipython3",
   "version": "3.10.1"
  }
 },
 "nbformat": 4,
 "nbformat_minor": 5
}
