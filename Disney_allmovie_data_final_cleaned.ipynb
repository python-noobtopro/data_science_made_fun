{
  "cells": [
    {
      "cell_type": "markdown",
      "metadata": {
        "id": "view-in-github",
        "colab_type": "text"
      },
      "source": [
        "<a href=\"https://colab.research.google.com/github/python-noobtopro/data_science_made_fun/blob/main/Disney_allmovie_data_final_cleaned.ipynb\" target=\"_parent\"><img src=\"https://colab.research.google.com/assets/colab-badge.svg\" alt=\"Open In Colab\"/></a>"
      ]
    },
    {
      "cell_type": "markdown",
      "id": "3e525d23",
      "metadata": {
        "id": "3e525d23"
      },
      "source": [
        "***********************************************************************\n",
        "\n",
        "## TASK IS TO COLLECT MOVIE INFO OF ALL DISNEY MOVIES (nearly 500 movies) FROM SCRAPING DATA FROM WIKIPEDIA AND SAVING IT LOCALLY AS A JSON FILE, CSV FILE, PICKLE FILE\n",
        "### Further we are interested in Data Cleaning so that we can easily analyse the data in future projects:\n",
        "\n",
        "1.   Converting date string to datetime object\n",
        "2.   Removing unwanted elements like subs [2], [3], etc\n",
        "3.   Converting all analyzable data like budget, box office collection into numerical values like float, int \n",
        "\n",
        "\n",
        "### Finally we are intersted to save our data in three formats:\n",
        "\n",
        "\n",
        "1.   JSON\n",
        "2.   pickle\n",
        "3.   csv (using pandas dataframe)\n",
        "\n",
        "\n",
        "\n",
        "\n",
        "\n",
        "*************************************************************************"
      ]
    },
    {
      "cell_type": "markdown",
      "source": [
        "**********************************************************************\n",
        "\n",
        "Libraries/modules used:\n",
        "\n",
        "\n",
        "*   BeautifulSoup  (Web scraping)\n",
        "*   requests       (Request/Response cycle)\n",
        "*   urllib         (Authorization for APIs)\n",
        "*   datetime       (Converting date strings to datetime object)\n",
        "*   pickle         (saving the data)\n",
        "*   pandas         (saving data as csv)\n",
        "*   json           (saving data) \n",
        "\n",
        "\n",
        "Concepts used:\n",
        "\n",
        "\n",
        "*   Http/Https protocols\n",
        "*   Request/Response cycle\n",
        "*   RESTful APIs and Authorization\n",
        "*   Web Scraping (more of HTML parsing)\n",
        "*   Handling JSON objects\n",
        "*   Data Cleaning\n",
        "*   Saving data as panda dataframe\n",
        "\n",
        "\n",
        "******************************************************************"
      ],
      "metadata": {
        "id": "Tesla1Lx9kRt"
      },
      "id": "Tesla1Lx9kRt"
    },
    {
      "cell_type": "markdown",
      "source": [
        "### Starting with we crawling to all the links found on the master web page 'https://en.wikipedia.org/wiki/List_of_Walt_Disney_Pictures_films' and then parsing the webpage to the required HTML/CSS tags and getting the JSON object"
      ],
      "metadata": {
        "id": "S7boy53RHK1L"
      },
      "id": "S7boy53RHK1L"
    },
    {
      "cell_type": "raw",
      "id": "54e92d8b",
      "metadata": {
        "id": "54e92d8b"
      },
      "source": [
        "## Importing prerequisites"
      ]
    },
    {
      "cell_type": "code",
      "execution_count": null,
      "id": "94216239",
      "metadata": {
        "id": "94216239"
      },
      "outputs": [],
      "source": [
        "import requests\n",
        "from bs4 import BeautifulSoup as bs"
      ]
    },
    {
      "cell_type": "raw",
      "id": "f69e039a",
      "metadata": {
        "id": "f69e039a"
      },
      "source": [
        "## Opening the master wiki webpage for digging into it"
      ]
    },
    {
      "cell_type": "code",
      "execution_count": null,
      "id": "4a68e4aa",
      "metadata": {
        "id": "4a68e4aa"
      },
      "outputs": [],
      "source": [
        "base_url = \"https://en.wikipedia.org\"\n",
        "master_url = \"https://en.wikipedia.org/wiki/List_of_Walt_Disney_Pictures_films\"\n",
        "\n",
        "link = requests.get(master_url)\n",
        "soup = bs(link.content, 'html.parser')       # making soup object using BeautifulSoup\n"
      ]
    },
    {
      "cell_type": "raw",
      "id": "c36eac46",
      "metadata": {
        "id": "c36eac46"
      },
      "source": [
        "## Start the tree search"
      ]
    },
    {
      "cell_type": "code",
      "execution_count": null,
      "id": "698da1e8",
      "metadata": {
        "id": "698da1e8"
      },
      "outputs": [],
      "source": [
        "# Digging to the href link of each movie title\n",
        "\n",
        "movies_link = soup.select(\".wikitable.sortable i a\")"
      ]
    },
    {
      "cell_type": "raw",
      "id": "91e51e75",
      "metadata": {
        "id": "91e51e75"
      },
      "source": [
        "## Extracting info out of new webpage"
      ]
    },
    {
      "cell_type": "code",
      "execution_count": null,
      "id": "44b6c94f",
      "metadata": {
        "id": "44b6c94f"
      },
      "outputs": [],
      "source": [
        "# Defining get_info function to get the info for each movie from the loaded movie webpage\n",
        "# this function will remove references\n",
        "\n",
        "\n",
        "\n",
        "def clear_tags(soup):\n",
        "    for tags in soup.find_all([\"sup\", \"span\"]):\n",
        "        tags.decompose()\n",
        "        \n",
        "        \n",
        "def get_content_value(row_data):\n",
        "    if row_data.find(\"li\"):\n",
        "        return [li.get_text(\" \", strip=True).replace(\"\\xa0\", \" \") for li in row_data.find_all(\"li\")]\n",
        "    elif row_data.find(\"br\"):\n",
        "        return [text for text in row_data.stripped_strings]    \n",
        "         # This automatically strips the content and makes a list of strings seperated with comma when jumps from one tag to other\n",
        "    else:\n",
        "        return row_data.get_text(\" \", strip=True).replace(\"\\xa0\", \" \")\n",
        "\n",
        "def get_info(new_url):\n",
        "    movie_info = {}\n",
        "    \n",
        "    link = requests.get(new_url)\n",
        "    soup = bs(link.content, 'html.parser')\n",
        "    search = soup.find(class_=\"infobox vevent\")\n",
        "    clear_tags(soup)\n",
        "    tr_tag = search.find_all(\"tr\")\n",
        "    for index, tags in enumerate(tr_tag):\n",
        "        if index == 0:\n",
        "            movie_info['Title'] = tags.find(\"th\").get_text()\n",
        "        elif index == 1:\n",
        "            continue\n",
        "        else:\n",
        "            keys = tags.find(\"th\").get_text(\" \", strip=True)     \n",
        "            values = get_content_value(tags.find(\"td\"))\n",
        "            movie_info[keys] = values\n",
        "    return movie_info\n"
      ]
    },
    {
      "cell_type": "code",
      "execution_count": null,
      "id": "ed6cf6b5",
      "metadata": {
        "collapsed": true,
        "colab": {
          "base_uri": "https://localhost:8080/"
        },
        "id": "ed6cf6b5",
        "outputId": "addb4a32-6a73-4dd5-c954-87a77d11e7f4"
      },
      "outputs": [
        {
          "output_type": "stream",
          "name": "stdout",
          "text": [
            "Extracted 1 of 510\n",
            "Extracted 11 of 510\n",
            "Extracted 21 of 510\n",
            "Extracted 31 of 510\n",
            "Extracted 41 of 510\n",
            "Sleeping Beauty\n",
            "'NoneType' object has no attribute 'get_text'\n",
            "Zorro the Avenger\n",
            "'NoneType' object has no attribute 'find'\n",
            "The Sign of Zorro\n",
            "'NoneType' object has no attribute 'find'\n",
            "Extracted 51 of 510\n",
            "Extracted 61 of 510\n",
            "Extracted 71 of 510\n",
            "Extracted 81 of 510\n",
            "Extracted 91 of 510\n",
            "Extracted 101 of 510\n",
            "Extracted 111 of 510\n",
            "Extracted 121 of 510\n",
            "True-Life Adventures\n",
            "'NoneType' object has no attribute 'find_all'\n",
            "Extracted 131 of 510\n",
            "Extracted 141 of 510\n",
            "The London Connection\n",
            "'NoneType' object has no attribute 'find'\n",
            "Extracted 151 of 510\n",
            "Extracted 161 of 510\n",
            "Extracted 171 of 510\n",
            "Extracted 181 of 510\n",
            "Extracted 191 of 510\n",
            "Extracted 201 of 510\n",
            "Extracted 211 of 510\n",
            "Extracted 221 of 510\n",
            "Extracted 231 of 510\n",
            "Extracted 241 of 510\n",
            "Extracted 251 of 510\n",
            "Extracted 261 of 510\n",
            "Spirited Away\n",
            "'NoneType' object has no attribute 'get_text'\n",
            "Extracted 271 of 510\n",
            "Extracted 281 of 510\n",
            "Extracted 291 of 510\n",
            "Extracted 301 of 510\n",
            "Howl's Moving Castle\n",
            "'NoneType' object has no attribute 'get_text'\n",
            "Extracted 311 of 510\n",
            "Extracted 321 of 510\n",
            "The Nightmare Before Christmas 3D\n",
            "'NoneType' object has no attribute 'get_text'\n",
            "Extracted 331 of 510\n",
            "The Secret of the Magic Gourd\n",
            "'NoneType' object has no attribute 'get_text'\n",
            "Extracted 341 of 510\n",
            "Extracted 351 of 510\n",
            "Ponyo\n",
            "'NoneType' object has no attribute 'get_text'\n",
            "Extracted 361 of 510\n",
            "Extracted 371 of 510\n",
            "Tales from Earthsea\n",
            "'NoneType' object has no attribute 'get_text'\n",
            "Anaganaga O Dheerudu\n",
            "'NoneType' object has no attribute 'get_text'\n",
            "Extracted 381 of 510\n",
            "Extracted 391 of 510\n",
            "The Secret World of Arrietty\n",
            "'NoneType' object has no attribute 'get_text'\n",
            "Extracted 401 of 510\n",
            "Extracted 411 of 510\n",
            "Extracted 421 of 510\n",
            "Tini: The Movie\n",
            "'NoneType' object has no attribute 'get_text'\n",
            "Extracted 431 of 510\n",
            "Born in China\n",
            "'NoneType' object has no attribute 'get_text'\n",
            "Extracted 441 of 510\n",
            "Extracted 451 of 510\n",
            "Extracted 461 of 510\n",
            "Extracted 471 of 510\n",
            "Extracted 481 of 510\n",
            "The Beatles: Get Back–The Rooftop Concert\n",
            "'NoneType' object has no attribute 'find'\n",
            "Extracted 491 of 510\n",
            "Extracted 501 of 510\n",
            "Sister Act 3\n",
            "'NoneType' object has no attribute 'find'\n",
            "Tower of Terror\n",
            "'NoneType' object has no attribute 'find_all'\n",
            "Tron: Ares\n",
            "'NoneType' object has no attribute 'find'\n"
          ]
        }
      ],
      "source": [
        "## Using get_info function on each link and appending it to master data\n",
        "\n",
        "master_data = []\n",
        "for index, links in enumerate(movies_link):         # We defined movies_link above\n",
        "    if index%10 == 0:                         \n",
        "        print('Extracted', index+1, 'of', len(movies_link))    # To check the progress\n",
        "    try:\n",
        "        relative_url = links['href']\n",
        "        movie_title = links['title']\n",
        "        \n",
        "        new_url = base_url + relative_url\n",
        "        master_data.append(get_info(new_url))\n",
        "        \n",
        "    except Exception as e:\n",
        "        print(links.get_text())\n",
        "        print(e) \n",
        "    "
      ]
    },
    {
      "cell_type": "code",
      "execution_count": null,
      "id": "5aa44e5e",
      "metadata": {
        "colab": {
          "base_uri": "https://localhost:8080/"
        },
        "id": "5aa44e5e",
        "outputId": "92faac97-ad25-4f66-9e90-8597729bea4b"
      },
      "outputs": [
        {
          "output_type": "execute_result",
          "data": {
            "text/plain": [
              "491"
            ]
          },
          "metadata": {},
          "execution_count": 6
        }
      ],
      "source": [
        "len(master_data)   # Checking that everything executed well"
      ]
    },
    {
      "cell_type": "markdown",
      "source": [
        "**Out of 510 movie_links we have successfully scraped the complete Movie Information of 491 movies which is quite a big number.**\n",
        "\n",
        "\n",
        "*The problem with other links could be broken links, poor HTML tagging, etc.*"
      ],
      "metadata": {
        "id": "5fZ7inmo_pVB"
      },
      "id": "5fZ7inmo_pVB"
    },
    {
      "cell_type": "raw",
      "id": "15202781",
      "metadata": {
        "id": "15202781"
      },
      "source": [
        "### Save/Reload data in JSON"
      ]
    },
    {
      "cell_type": "code",
      "execution_count": null,
      "id": "3a3970dc",
      "metadata": {
        "id": "3a3970dc"
      },
      "outputs": [],
      "source": [
        "# Creating save method\n",
        "\n",
        "import json\n",
        "\n",
        "def saveas_json(filename, data):\n",
        "    with open(filename, 'w', encoding='utf-8') as f:\n",
        "        json.dump(data, f, ensure_ascii=False, indent=2)"
      ]
    },
    {
      "cell_type": "code",
      "execution_count": null,
      "id": "62799f96",
      "metadata": {
        "id": "62799f96"
      },
      "outputs": [],
      "source": [
        "# Creating reload method\n",
        "\n",
        "import json\n",
        "\n",
        "def reload_json(filename):\n",
        "    with open(filename, encoding='utf-8') as data_file:\n",
        "        data_loaded = json.load(data_file)\n",
        "    return data_loaded"
      ]
    },
    {
      "cell_type": "code",
      "execution_count": null,
      "id": "f8c01a2e",
      "metadata": {
        "id": "f8c01a2e"
      },
      "outputs": [],
      "source": [
        "# Sample execution of save method\n",
        "\n",
        "#saveas_json('disney_allmovie_data_sample.json', master_data)"
      ]
    },
    {
      "cell_type": "code",
      "execution_count": null,
      "id": "fc2b1af0",
      "metadata": {
        "id": "fc2b1af0"
      },
      "outputs": [],
      "source": [
        "# Sample Reloading file\n",
        "\n",
        "# reload_json('disney_allmovie_data_sample.json')"
      ]
    },
    {
      "cell_type": "markdown",
      "id": "5245159c",
      "metadata": {
        "id": "5245159c"
      },
      "source": [
        "## Cleaning data\n",
        "\n",
        "*Now that we have movie data of more than 450 movies we can go further to clean it to make it good to analyze*"
      ]
    },
    {
      "cell_type": "markdown",
      "source": [
        "*************************************************************\n",
        "*  Convert date string into datetime object\n",
        "\n",
        "*We need to convert date in the format ['May 19, 1937'] to a datetime object*\n",
        "\n",
        "*   We also need to convert the the time string such as '142 minutes' to integer time\n",
        "\n",
        "*   We also need to convert all Budget and Box office values to a numerical (float) value\n",
        "\n",
        "*e.g., '$418 million', '$164 million', '$76.4–$83.3 million (United States and Canada)'*\n",
        "\n",
        "*************************************************************************"
      ],
      "metadata": {
        "id": "_GfqDQCnAaje"
      },
      "id": "_GfqDQCnAaje"
    },
    {
      "cell_type": "code",
      "execution_count": null,
      "id": "0483109f",
      "metadata": {
        "id": "0483109f"
      },
      "outputs": [],
      "source": [
        "from datetime import datetime\n",
        "import dateutil.parser"
      ]
    },
    {
      "cell_type": "code",
      "execution_count": null,
      "id": "36213a1e",
      "metadata": {
        "colab": {
          "base_uri": "https://localhost:8080/"
        },
        "id": "36213a1e",
        "outputId": "9abb097f-92da-41f8-f437-81206d52fdd1"
      },
      "outputs": [
        {
          "output_type": "stream",
          "name": "stdout",
          "text": [
            "[['May 19, 1937'], ['December 21, 1937 ( Carthay Circle Theatre )'], ['February 7, 1940 ( Center Theatre )', 'February 23, 1940 (United States)'], ['November 13, 1940'], ['June 27, 1941'], ['October 23, 1941 (New York City)', 'October 31, 1941 (U.S.)'], ['August 9, 1942 (World Premiere – London)', 'August 13, 1942 (Premiere – New York City)', 'August 21, 1942 (U.S.)'], ['August 24, 1942 (World Premiere – Rio de Janeiro)', 'February 6, 1943 (U.S. Premiere – Boston)', 'February 19, 1943 (U.S.)'], ['July 17, 1943'], ['December 21, 1944 (Mexico City)', 'February 3, 1945 (US)'], ['April 20, 1946 (New York City premiere)', 'August 15, 1946 (U.S.)'], ['November 12, 1946 (Premiere: Atlanta, Georgia)', 'November 20, 1946', 'March 30, 1947 (Stanford Theatre, Palo Alto, California)'], ['September 27, 1947'], 'May 27, 1948', ['November 29, 1948 (Chicago, Illinois)', 'January 19, 1949 (Indianapolis, Indiana)'], ['October 5, 1949'], ['February 15, 1950 (Boston)', 'March 4, 1950 (United States)'], ['June 22, 1950 (World Premiere-London)', 'July 29, 1950 (US)'], ['July 26, 1951 (London, premiere)', 'July 28, 1951 (New York City, premiere)'], ['March 13, 1952 (Premiere- London )', 'June 26, 1952 ( US )'], ['February 5, 1953 (United States)'], [\"July 23, 1953 ('US )\"], ['November 10, 1953'], ['26 October 1953 (Premiere- London )', '27 February 1954 ( US )'], ['August 17, 1954'], ['December 23, 1954'], 'May 25, 1955', ['June 22, 1955'], ['September 14, 1955'], 'December 22, 1955', 'June 8, 1956', 'July 18, 1956', ['September 4, 1956'], ['December 20, 1956'], 'June 19, 1957', 'August 28, 1957', ['December 25, 1957'], ['July 8, 1958'], ['August 12, 1958'], ['December 25, 1958'], ['March 19, 1959'], ['June 24, 1959 (Dublin)', 'June 26, 1959 (Los Angeles)'], ['November 10, 1959'], 'January 21, 1960 ( Sarasota, FL )', ['February 24, 1960'], 'May 19, 1960', ['June 1960 ( Berlin )', 'August 10, 1960 (US)'], ['November 1, 1960'], ['December 21, 1960'], ['January 25, 1961'], 'March 16, 1961', ['June 21, 1961'], ['July 12, 1961'], ['July 17, 1961'], ['December 14, 1961'], 'April 5, 1962', ['May 17, 1962'], ['June 6, 1962'], 'September 26, 1962', ['November 7, 1962 (Los Angeles)'], ['November 14, 1962 (London, premiere)', 'December 19, 1962 (US)'], ['January 16, 1963'], ['March 29, 1963 (U.S.)'], ['June 1, 1963'], ['July 7, 1963'], 'November 20, 1963', ['December 25, 1963'], ['March 12, 1964'], ['February 11, 1964 (Los Angeles)'], ['11 December 1963 ( New York City )', '4 June 1964 (U.S.)'], ['July 2, 1964'], ['August 27, 1964 (LA)', 'September 24, 1964 (NY)'], 'November 10, 1964', ['December 18, 1964'], ['August 18, 1965 (Los Angeles)'], ['December 2, 1965'], ['February 4, 1966 (premiere)', 'February 16, 1966 (United States)'], ['June 25, 1966 (San Diego)', 'June 29, 1966 (U.S.)'], 'October 1, 1966', ['December 1, 1966'], ['February 8, 1967 (San Francisco)'], ['June 15, 1967'], ['July 12, 1967'], ['October 18, 1967'], ['October 19, 1967'], ['June 23, 1967', 'November 30, 1967'], ['February 8, 1968'], ['March 21, 1968 ( Radio City Music Hall )'], ['June 26, 1968'], ['December 3, 1968'], ['December 24, 1968 (limited)', 'March 13, 1969 (wide)'], ['May 9, 1969'], 'September 4, 1969', ['November 28, 1969'], ['February 11, 1970'], 'July 1, 1970', ['December 15, 1970', 'January 20, 1971'], ['December 11, 1970 (premiere)', 'December 24, 1970 (United States)'], 'March 17, 1971', 'June 22, 1971', ['June 30, 1971'], ['October 7, 1971 (United Kingdom)', 'December 13, 1971 (United States)'], ['March 22, 1972 (US)'], 'July 12, 1972', ['July 5, 1972'], ['October 18, 1972'], ['December 22, 1972'], 'February 1, 1973', ['March 23, 1973'], ['June 20, 1973'], ['November 8, 1973'], ['December 14, 1973'], ['June 6, 1974'], ['July 31, 1974'], ['August 1, 1974'], 'December 20, 1974 (with Winnie the Pooh and Tigger Too )', ['February 6, 1975'], ['March 21, 1975 (United States)'], ['July 1, 1975'], ['July 9, 1975'], ['October 8, 1975'], 'December 25, 1975', ['February 11, 1976 (Los Angeles)'], ['July 1, 1976'], ['July 7, 1976'], ['December 16, 1976'], ['December 17, 1976'], ['May 26, 1976', '(UK)', 'March 11, 1977', '(US)'], ['March 11, 1977'], ['June 20, 1977'], ['June 22, 1977'], ['June 24, 1977'], ['November 3, 1977'], 'December 16, 1977', ['March 10, 1978'], ['June 30, 1978 (New York)'], 'July 5, 1978', 'February 9, 1979', ['June 27, 1979'], ['July 19, 1979 (London)', 'August 3, 1979 (Los Angeles)'], ['December 18, 1979 (United Kingdom)', 'December 21, 1979 (United States)'], ['February 8, 1980'], ['April 17, 1980 (New York City)', 'October 9, 1981 (U.S.)'], ['June 27, 1980'], ['July 9, 1980 (Los Angeles)'], ['December 6, 1980 ( Los Angeles )', 'December 12, 1980 ( United States )'], 'February 11, 1981 (Los Angeles)', 'March 20, 1981', ['June 26, 1981'], ['July 10, 1981'], ['August 7, 1981'], 'February 5, 1982', ['July 9, 1982'], 'July 30, 1982', ['March 11, 1983'], ['April 29, 1983 (United States)'], ['October 7, 1983 (limited)', 'January 27, 1984 (release)'], ['June 21, 1985 (United States)'], ['July 24, 1985'], ['September 27, 1985'], ['November 22, 1985'], ['July 2, 1986'], ['August 1, 1986'], ['June 5, 1987'], ['24 March 1988 (Australia)'], ['November 18, 1988'], ['June 23, 1989'], 'August 18, 1989', ['November 17, 1989'], ['August 3, 1990'], ['November 16, 1990'], ['January 18, 1991'], ['3 October 1990'], ['May 24, 1991'], ['June 21, 1991'], ['September 29, 1991 ( NYFF )', 'November 22, 1991 (United States)'], ['April 10, 1992'], ['July 17, 1992'], ['October 2, 1992'], ['November 25, 1992'], ['December 11, 1992'], 'February 3, 1993', ['March 12, 1993'], ['April 2, 1993'], ['July 16, 1993'], ['October 1, 1993'], ['November 12, 1993'], ['January 14, 1994'], ['February 11, 1994'], ['April 17, 1994'], ['April 14, 1994'], ['June 15, 1994 (United States)'], ['July 15, 1994'], ['October 28, 1994'], ['November 11, 1994'], ['December 25, 1994'], ['February 17, 1995'], ['March 3, 1995'], ['March 24, 1995'], ['April 7, 1995'], ['June 10, 1995', 'June 23, 1995'], ['July 28, 1995'], ['August 11, 1995'], ['September 27, 1995'], ['January 22, 1995 ( Sundance Film Festival )', 'October 20, 1995 (U.S.)'], ['November 19, 1995 ( El Capitan Theatre )', 'November 22, 1995 (United States)'], ['December 22, 1995'], ['February 16, 1996'], ['March 8, 1996'], ['April 12, 1996 (United States)', 'August 2, 1996 (United Kingdom)'], ['June 19, 1996 (New Orleans)', 'June 21, 1996 (United States)'], ['August 30, 1996'], ['October 4, 1996'], ['November 27, 1996 (United States)'], ['February 14, 1997'], ['March 7, 1997 (US)', 'August 5, 1997 (France)'], 'March 18, 1997', ['June 13, 1997 (United States)'], ['July 16, 1997'], ['August 1, 1997'], ['October 10, 1997'], ['November 16, 1997 ( Pennsylvania )', 'November 26, 1997 (United States)'], ['December 25, 1997'], ['March 27, 1998 (United States)'], ['June 19, 1998'], ['July 29, 1998 (United States)'], 'September 29, 1998', ['November 13, 1998'], ['November 20, 1998'], ['December 25, 1998'], ['February 12, 1999'], ['March 26, 1999'], ['May 14, 1999'], ['June 12, 1999 ( El Capitan Theatre )', 'June 16, 1999 (United States )'], ['July 23, 1999'], ['May 1999 ( Cannes )', 'October 15, 1999 (United States)'], ['November 13, 1999 ( El Capitan Theatre )', 'November 24, 1999 (United States)'], ['December 17, 1999 (Premiere)', 'January 1, 2000 ( IMAX )', 'June 16, 2000 (United States)'], ['February 11, 2000 (United States)', 'March 24, 2004 (', 'Toon Disney', ')', 'August 29, 2005 (', 'Disney Channel', ')', 'August 22, 2000 (', 'DVD', 'and', 'VHS', ')'], ['March 10, 2000'], ['May 19, 2000 (United States)'], ['July 7, 2000'], ['September 29, 2000'], ['November 22, 2000 (United States)'], ['December 8, 2000 (premiere)', 'December 15, 2000'], ['February 10, 2001 (premiere)', 'February 16, 2001 (United States)'], ['February 27, 2001'], ['June 3, 2001 (premiere)', 'June 15, 2001 (United States)'], ['July 29, 2001 ( El Capitan Theatre )', 'August 3, 2001 (United States)'], ['October 5, 2001'], ['October 28, 2001 ( El Capitan Theatre )', 'November 2, 2001 (United States)'], ['November 6, 2001'], ['January 18, 2002'], ['February 10, 2002 ( New York City )', 'February 15, 2002 (United States)'], ['February 26, 2002'], ['March 19, 2002'], ['March 29, 2002'], ['June 14, 2002 (premiere)', 'June 21, 2002'], ['July 21, 2002', 'July 26, 2002'], ['October 11, 2002 (U.S.)'], ['November 1, 2002'], ['November 27, 2002'], ['January 21, 2003'], ['February 14, 2003'], ['March 11, 2003'], ['March 16, 2003 (Premiere)', 'March 21, 2003 (United States)', 'July 2, 2003 ( Manila , Philippines )'], ['March 31, 2003 (premiere)', 'April 11, 2003 (limited)'], ['April 18, 2003 (United States)'], ['May 2, 2003 (United States)'], ['May 30, 2003'], ['June 28, 2003 ( Disneyland Resort )', 'July 9, 2003 (United States)'], ['August 4, 2003 ( Los Angeles )', 'August 6, 2003 (United States)'], ['August 26, 2003'], ['October 21, 2003'], ['November 1, 2003'], ['November 26, 2003'], ['December 25, 2003'], ['January 16, 2004'], ['February 20, 2004'], ['February 10, 2004'], ['February 17, 2004 (United States)'], ['March 9, 2004'], ['April 2, 2004'], ['April 22, 2004'], ['June 16, 2004'], ['July 2, 2004'], ['August 11, 2004'], ['August 17, 2004'], ['October 24, 2004 ( El Capitan Theatre )', 'November 5, 2004 (United States)'], ['November 9, 2004'], ['November 19, 2004'], ['January 28, 2005'], ['November 3, 2004 (Italy)', 'February 1, 2005 (United States)'], ['February 11, 2005'], ['March 4, 2005'], ['March 18, 2005'], ['June 14, 2005'], ['June 22, 2005'], ['July 29, 2005'], ['March 25, 2005 (UK)', 'August 19, 2005 (US)'], ['August 30, 2005'], ['September 13, 2005'], ['September 30, 2005'], ['October 30, 2005 ( El Capitan Theatre )', 'November 4, 2005 (United States)'], ['December 7, 2005 ( Royal Film Performance )', 'December 8, 2005 (United Kingdom)', 'December 9, 2005 (United States)'], 'December 13, 2005', 'January 13, 2006', ['January 26, 2006 (Argentina)', 'February 7, 2006 (United States)'], ['January 27, 2006'], ['February 17, 2006 (United States)'], ['March 10, 2006'], ['April 14, 2006'], [\"May 26, 2006 ( Lowe's Motor Speedway )\", 'June 9, 2006 (United States)'], ['June 23, 2006', 'June 27, 2006'], ['June 24, 2006 ( Disneyland Resort )', 'July 7, 2006 (United States)'], ['August 25, 2006'], ['August 29, 2006'], ['November 3, 2006'], ['December 12, 2006'], ['February 6, 2007'], ['February 16, 2007'], ['March 23, 2007 (United Kingdom)', 'March 30, 2007 (United States)'], ['May 19, 2007 ( Disneyland Resort )', 'May 25, 2007 (United States)'], ['June 22, 2007 ( Kodak Theatre )', 'June 29, 2007 (United States)'], ['August 3, 2007'], ['August 28, 2007'], ['September 23, 2007 ( Hollywood )', 'September 28, 2007 (United States)'], ['October 20, 2007 ( London )', 'November 21, 2007 (United States)'], ['December 21, 2007'], 'February 1, 2008', ['March 7, 2008'], ['May 7, 2008 ( New York City )', 'May 16, 2008 (United States)', 'June 26, 2008 (United Kingdom)'], ['June 23, 2008 ( Los Angeles )', 'June 27, 2008 (United States)'], ['August 26, 2008'], ['October 28, 2008'], ['October 3, 2008 (United States)'], 'October 17, 2008', ['October 17, 2008 (London)', 'October 24, 2008 (United States)'], ['23 October 2008 (Kuwait)', '24 October 2008 (India and United States)'], ['November 21, 2008'], ['December 25, 2008'], ['February 27, 2009'], ['March 11, 2009 (Egypt)', 'March 13, 2009 (United States)'], ['April 10, 2009'], ['10 October 2007 (France)', '16 November 2007 (United Kingdom)', '12 January 2008 (Germany)', '22 April 2009 (United States)'], ['April 24, 2009 (San Francisco International Film Festival)', 'May 22, 2009 (United States)'], ['May 13, 2009 ( Cannes )', 'May 29, 2009 (United States)'], 'N/A', ['July 24, 2009'], ['June 5, 2009 (Japan)', 'October 27, 2009 (United States)', 'February 15, 2010 (Hindi)'], ['2008'], ['October 29, 2009'], ['November 3, 2009 ( London )', 'November 6, 2009 (United States)'], ['November 25, 2009'], ['November 25, 2009 (Los Angeles premiere)', 'December 11, 2009 (United States)'], ['February 25, 2010 ( Odeon Leicester Square )', 'March 5, 2010 (United States)'], ['October 17, 2009 ( Tokyo International Film Festival )', 'January 24, 2010 (France)'], ['May 9, 2010 (London premiere)', 'May 28, 2010 (United States)'], ['June 12, 2010 ( Taormina Film Fest )', 'June 18, 2010 (United States)'], ['July 8, 2010 (Fantasia Film Festival)', 'July 14, 2010'], ['August 13, 2010 (United Kingdom)', 'September 21, 2010 (United States)'], ['26 October 2008 ( France )', '29 September 2009 ( United Kingdom )'], ['September 30, 2010 ( Hollywood )', 'October 8, 2010 (United States)'], ['8 October 2010'], ['November 14, 2010 ( El Capitan Theatre )', 'November 24, 2010 (United States)'], ['November 30, 2010 (Tokyo)', 'December 17, 2010 (United States)'], ['February 1, 2011'], ['17 February 2011'], ['March 6, 2011 ( El Capitan Theatre )', 'March 11, 2011 (United States)'], ['22 April 2011'], ['April 22, 2011 (United States)', 'February 1, 2012 (France)', 'April 27, 2012 (United Kingdom)'], ['April 29, 2011'], ['May 7, 2011 ( Disneyland Resort )', 'May 20, 2011 (United States)'], ['June 18, 2011 (Hollywood)', 'June 24, 2011 (United States)'], ['April 6, 2011 (Belgium)', 'July 15, 2011 (United States)'], ['September 20, 2011'], ['November 4, 2011 (Savannah Film Festival)', 'November 23, 2011 (United States)'], ['January 31, 2012'], ['February 22, 2012 ( Los Angeles )', 'March 9, 2012 (United States)'], ['April 20, 2012 (United States)', 'February 20, 2013 (France)', 'May 3, 2013 (United Kingdom)'], ['25 May 2012'], ['June 10, 2012 ( SIFF )', 'June 22, 2012 (United States)'], ['August 15, 2012'], ['August 16, 2012 (Ukraine)', 'August 31, 2012 (United States (limited))', 'October 23, 2012 (DVD release)'], ['September 18, 2012'], ['September 20, 2012 (Fantastic Fest)', 'October 5, 2012 (United States)'], ['October 29, 2012 ( El Capitan Theatre )', 'November 2, 2012 (United States)'], ['February 14, 2013 ( El Capitan Theatre )', 'March 8, 2013 (United States)'], ['16 March 2011 (France)', '16 April 2013 (United States)'], ['June 5, 2013 ( BFI Southbank )', 'June 21, 2013 (United States)'], ['June 22, 2013 ( Hyperion Theatre )', 'July 3, 2013 (United States)'], ['August 2, 2013 ( EAA AirVenture Oshkosh )', 'August 9, 2013 (United States)'], ['August 27, 2013'], ['November 19, 2013 ( El Capitan Theatre )', 'November 22, 2013 (United States)'], ['October 20, 2013 ( BFI London Film Festival )', 'November 29, 2013 (United Kingdom)', 'December 13, 2013 (United States)', 'January 9, 2014 (Australia)'], ['February 13, 2014 (Denmark)', 'April 1, 2014 (United States)'], ['March 11, 2014 ( El Capitan Theatre )', 'March 21, 2014 (United States)'], ['April 18, 2014 (United States)'], ['May 6, 2014 ( El Capitan Theatre )', 'May 16, 2014 (United States)'], ['May 28, 2014 ( El Capitan Theatre )', 'May 30, 2014 (United States)'], ['July 15, 2014 ( El Capitan Theatre )', 'July 18, 2014 (United States)'], ['19 September 2014'], ['October 6, 2014 ( El Capitan Theatre )', 'October 10, 2014 (United States)'], ['October 23, 2014 ( Tokyo International Film Festival )', 'October 31, 2014 ( Abu Dhabi Film Festival )', 'November 7, 2014 (United States)'], ['December 8, 2014 ( Ziegfeld Theatre )', 'December 25, 2014 (United States)'], ['February 9, 2015 ( Hollywood )', 'February 20, 2015 (United States)'], ['December 12, 2014 (United Kingdom)', 'March 3, 2015 (United States)'], ['February 13, 2015 ( Berlin )', 'March 13, 2015 (United States)', 'March 27, 2015 (United Kingdom)'], ['April 17, 2015 (United States)'], ['May 9, 2015 ( Disneyland )', 'May 22, 2015 (United States)'], ['May 18, 2015 ( Cannes )', 'June 19, 2015 (United States)'], ['19 June 2015'], ['November 10, 2015 ( Paris )', 'November 25, 2015 (United States)'], ['January 25, 2016 ( TCL Chinese Theatre )', 'January 29, 2016 (United States)'], ['February 13, 2016 (Belgium)', 'March 4, 2016 (United States)'], ['April 4, 2016 ( El Capitan Theatre )', 'April 15, 2016 (United States)'], ['May 10, 2016 ( London )', 'May 27, 2016 (United States)'], ['June 8, 2016 ( El Capitan Theatre )', 'June 17, 2016 (United States)'], ['May 14, 2016 ( Cannes )', 'July 1, 2016 (United States)', 'July 22, 2016 (United Kingdom)'], ['August 8, 2016 ( El Capitan Theatre )', 'August 12, 2016 (United States)'], ['September 10, 2016 ( TIFF )', 'September 23, 2016 (United States)'], ['November 14, 2016 ( AFI Fest )', 'November 23, 2016 (United States)'], ['21 December 2016 (United States)', '23 December 2016 (India)'], ['24 June 2005'], ['February 23, 2017 ( Spencer House )', 'March 17, 2017 (United States)'], ['May 11, 2017 ( Shanghai Disney Resort )', 'May 26, 2017 (United States)'], ['May 23, 2017 ( Kannapolis )', 'June 16, 2017 (United States)'], ['June 30, 2017 (United States)'], ['14 July 2017'], ['October 29, 2017 ( Russia )'], ['October 20, 2017 ( Morelia )', 'November 22, 2017 (United States)'], ['February 26, 2018 ( El Capitan Theatre )', 'March 9, 2018 (United States)'], ['June 5, 2018 ( Los Angeles )', 'June 15, 2018 (United States)'], ['July 30, 2018 ( Burbank )', 'August 3, 2018 (United States)'], ['October 29, 2018 ( Dolby Theatre )', 'November 2, 2018 (United States)'], ['November 5, 2018 ( El Capitan Theatre )', 'November 21, 2018 (United States)'], ['November 29, 2018 ( Dolby Theatre )', 'December 19, 2018 (United States)'], ['March 11, 2019 ( Los Angeles )', 'March 29, 2019 (United States)'], ['April 17, 2019 (United States)'], ['May 8, 2019 ( Grand Rex )', 'May 24, 2019 (United States)'], ['June 11, 2019 ( El Capitan Theatre )', 'June 21, 2019 (United States)'], ['July 9, 2019 ( Hollywood )', 'July 19, 2019 (United States)'], ['October 18, 2019'], ['November 12, 2019 (United States)'], ['November 12, 2019 (United States)'], ['November 7, 2019 ( Dolby Theatre )', 'November 22, 2019 (United States)'], ['December 20, 2019 (United States)'], ['January 25, 2020 ( Sundance )', 'February 7, 2020 ( Disney+ )'], ['February 21, 2020 ( Berlinale )', 'March 6, 2020 (United States)'], ['March 13, 2020 (United States)'], ['March 28, 2018 (France)', 'April 3, 2020 ( Disney+ )'], ['April 3, 2020'], ['June 12, 2020'], ['July 3, 2020'], ['July 31, 2020'], ['August 14, 2020'], ['August 21, 2020 (United States)'], ['March 9, 2020 ( Hollywood )', 'September 4, 2020 (United States)'], ['December 4, 2020 (United States)'], ['December 11, 2020 (United States)'], ['October 11, 2020 ( BFI Fest )', 'December 25, 2020 (United States)'], ['January 1, 2021 ( Russia )'], ['February 19, 2021 (United States)'], ['March 5, 2021 (United States)'], ['May 18, 2021 ( El Capitan Theatre )', 'May 28, 2021 (United States)'], ['June 13, 2021 ( Aquarium of Genoa )', 'June 18, 2021 (United States)'], ['July 24, 2021 ( Disneyland Resort )', 'July 30, 2021 (United States)'], ['November 3, 2021 ( El Capitan Theatre )', 'November 24, 2021 (United States)'], ['December 3, 2021'], ['December 23, 2021'], ['March 11, 2022 (United States)'], ['June 17, 2022'], 'May 26, 2023', ['2022'], ['2022'], ['2022'], '2022', 'N/A', ['December 3, 2021'], ['2022'], 'N/A', ['2022'], ['2022'], ['November 25, 1987'], 'N/A', 'N/A', ['June 14, 2002 (premiere)', 'June 21, 2002'], ['December 21, 2007'], 'N/A', ['December 21, 1937 ( Carthay Circle Theatre )'], ['June 21, 1991']]\n"
          ]
        }
      ],
      "source": [
        "# Checking different types of date string that we can encounter\n",
        "\n",
        "print([items.get('Release date', 'N/A') for items in master_data])"
      ]
    },
    {
      "cell_type": "markdown",
      "source": [
        "This code snippet will extract dates from all different date string types and handle all the edge cases and convert it to datetime object"
      ],
      "metadata": {
        "id": "mgIvtILRBrst"
      },
      "id": "mgIvtILRBrst"
    },
    {
      "cell_type": "code",
      "execution_count": null,
      "id": "3dffaf1e",
      "metadata": {
        "id": "3dffaf1e"
      },
      "outputs": [],
      "source": [
        "#str_date = [\"26 October 1953 ( 1953-10-26 ) (Premiere- London ) [1]\", \"27 February 1954 ( 1954-02-27 ) ( US ) [1]\"]\n",
        "\n",
        "def date_convert(str_date):\n",
        "    if str_date == 'N/A':\n",
        "        return None\n",
        "    \n",
        "    if isinstance(str_date, list):\n",
        "        date = str_date[0]\n",
        "        split_date = date.split(\"(\")[0].strip()\n",
        "        date = dateutil.parser.parse(split_date).strftime('%d %B, %Y')   #Converting every format to a specific format\n",
        "        return datetime.strptime(date, '%d %B, %Y').date()                 # Creating python date object\n",
        "    \n",
        "    if not isinstance(str_date, list):\n",
        "        split_date = str_date.split(\"(\")[0].strip()\n",
        "        date = dateutil.parser.parse(split_date).strftime('%d %B, %Y')    #Converting every format to a specific format\n",
        "        return datetime.strptime(date, '%d %B, %Y').date()  "
      ]
    },
    {
      "cell_type": "markdown",
      "source": [
        "This snippet will update all a new key value pair in the master_data list of all movie data with a datetime object"
      ],
      "metadata": {
        "id": "OBG_2QfeBvpk"
      },
      "id": "OBG_2QfeBvpk"
    },
    {
      "cell_type": "code",
      "execution_count": null,
      "id": "991e67aa",
      "metadata": {
        "id": "991e67aa"
      },
      "outputs": [],
      "source": [
        "for dictionary in master_data:      #Selecting a dictionary from master data and adding a new key to the dictionary\n",
        "    dictionary['Release date (Standard)'] = date_convert(dictionary.get('Release date', 'N/A'))"
      ]
    },
    {
      "cell_type": "code",
      "execution_count": null,
      "id": "083bd6e6",
      "metadata": {
        "colab": {
          "base_uri": "https://localhost:8080/"
        },
        "id": "083bd6e6",
        "outputId": "e4deeff0-d9d4-4e7a-ccf4-43d2399b64d6"
      },
      "outputs": [
        {
          "output_type": "stream",
          "name": "stdout",
          "text": [
            "[datetime.date(1937, 5, 19), datetime.date(1937, 12, 21), datetime.date(1940, 2, 7), datetime.date(1940, 11, 13), datetime.date(1941, 6, 27), datetime.date(1941, 10, 23), datetime.date(1942, 8, 9), datetime.date(1942, 8, 24), datetime.date(1943, 7, 17), datetime.date(1944, 12, 21), datetime.date(1946, 4, 20), datetime.date(1946, 11, 12), datetime.date(1947, 9, 27), datetime.date(1948, 5, 27), datetime.date(1948, 11, 29), datetime.date(1949, 10, 5), datetime.date(1950, 2, 15), datetime.date(1950, 6, 22), datetime.date(1951, 7, 26), datetime.date(1952, 3, 13), datetime.date(1953, 2, 5), datetime.date(1953, 7, 23), datetime.date(1953, 11, 10), datetime.date(1953, 10, 26), datetime.date(1954, 8, 17), datetime.date(1954, 12, 23), datetime.date(1955, 5, 25), datetime.date(1955, 6, 22), datetime.date(1955, 9, 14), datetime.date(1955, 12, 22), datetime.date(1956, 6, 8), datetime.date(1956, 7, 18), datetime.date(1956, 9, 4), datetime.date(1956, 12, 20), datetime.date(1957, 6, 19), datetime.date(1957, 8, 28), datetime.date(1957, 12, 25), datetime.date(1958, 7, 8), datetime.date(1958, 8, 12), datetime.date(1958, 12, 25), datetime.date(1959, 3, 19), datetime.date(1959, 6, 24), datetime.date(1959, 11, 10), datetime.date(1960, 1, 21), datetime.date(1960, 2, 24), datetime.date(1960, 5, 19), datetime.date(1960, 6, 7), datetime.date(1960, 11, 1), datetime.date(1960, 12, 21), datetime.date(1961, 1, 25), datetime.date(1961, 3, 16), datetime.date(1961, 6, 21), datetime.date(1961, 7, 12), datetime.date(1961, 7, 17), datetime.date(1961, 12, 14), datetime.date(1962, 4, 5), datetime.date(1962, 5, 17), datetime.date(1962, 6, 6), datetime.date(1962, 9, 26), datetime.date(1962, 11, 7), datetime.date(1962, 11, 14), datetime.date(1963, 1, 16), datetime.date(1963, 3, 29), datetime.date(1963, 6, 1), datetime.date(1963, 7, 7), datetime.date(1963, 11, 20), datetime.date(1963, 12, 25), datetime.date(1964, 3, 12), datetime.date(1964, 2, 11), datetime.date(1963, 12, 11), datetime.date(1964, 7, 2), datetime.date(1964, 8, 27), datetime.date(1964, 11, 10), datetime.date(1964, 12, 18), datetime.date(1965, 8, 18), datetime.date(1965, 12, 2), datetime.date(1966, 2, 4), datetime.date(1966, 6, 25), datetime.date(1966, 10, 1), datetime.date(1966, 12, 1), datetime.date(1967, 2, 8), datetime.date(1967, 6, 15), datetime.date(1967, 7, 12), datetime.date(1967, 10, 18), datetime.date(1967, 10, 19), datetime.date(1967, 6, 23), datetime.date(1968, 2, 8), datetime.date(1968, 3, 21), datetime.date(1968, 6, 26), datetime.date(1968, 12, 3), datetime.date(1968, 12, 24), datetime.date(1969, 5, 9), datetime.date(1969, 9, 4), datetime.date(1969, 11, 28), datetime.date(1970, 2, 11), datetime.date(1970, 7, 1), datetime.date(1970, 12, 15), datetime.date(1970, 12, 11), datetime.date(1971, 3, 17), datetime.date(1971, 6, 22), datetime.date(1971, 6, 30), datetime.date(1971, 10, 7), datetime.date(1972, 3, 22), datetime.date(1972, 7, 12), datetime.date(1972, 7, 5), datetime.date(1972, 10, 18), datetime.date(1972, 12, 22), datetime.date(1973, 2, 1), datetime.date(1973, 3, 23), datetime.date(1973, 6, 20), datetime.date(1973, 11, 8), datetime.date(1973, 12, 14), datetime.date(1974, 6, 6), datetime.date(1974, 7, 31), datetime.date(1974, 8, 1), datetime.date(1974, 12, 20), datetime.date(1975, 2, 6), datetime.date(1975, 3, 21), datetime.date(1975, 7, 1), datetime.date(1975, 7, 9), datetime.date(1975, 10, 8), datetime.date(1975, 12, 25), datetime.date(1976, 2, 11), datetime.date(1976, 7, 1), datetime.date(1976, 7, 7), datetime.date(1976, 12, 16), datetime.date(1976, 12, 17), datetime.date(1976, 5, 26), datetime.date(1977, 3, 11), datetime.date(1977, 6, 20), datetime.date(1977, 6, 22), datetime.date(1977, 6, 24), datetime.date(1977, 11, 3), datetime.date(1977, 12, 16), datetime.date(1978, 3, 10), datetime.date(1978, 6, 30), datetime.date(1978, 7, 5), datetime.date(1979, 2, 9), datetime.date(1979, 6, 27), datetime.date(1979, 7, 19), datetime.date(1979, 12, 18), datetime.date(1980, 2, 8), datetime.date(1980, 4, 17), datetime.date(1980, 6, 27), datetime.date(1980, 7, 9), datetime.date(1980, 12, 6), datetime.date(1981, 2, 11), datetime.date(1981, 3, 20), datetime.date(1981, 6, 26), datetime.date(1981, 7, 10), datetime.date(1981, 8, 7), datetime.date(1982, 2, 5), datetime.date(1982, 7, 9), datetime.date(1982, 7, 30), datetime.date(1983, 3, 11), datetime.date(1983, 4, 29), datetime.date(1983, 10, 7), datetime.date(1985, 6, 21), datetime.date(1985, 7, 24), datetime.date(1985, 9, 27), datetime.date(1985, 11, 22), datetime.date(1986, 7, 2), datetime.date(1986, 8, 1), datetime.date(1987, 6, 5), datetime.date(1988, 3, 24), datetime.date(1988, 11, 18), datetime.date(1989, 6, 23), datetime.date(1989, 8, 18), datetime.date(1989, 11, 17), datetime.date(1990, 8, 3), datetime.date(1990, 11, 16), datetime.date(1991, 1, 18), datetime.date(1990, 10, 3), datetime.date(1991, 5, 24), datetime.date(1991, 6, 21), datetime.date(1991, 9, 29), datetime.date(1992, 4, 10), datetime.date(1992, 7, 17), datetime.date(1992, 10, 2), datetime.date(1992, 11, 25), datetime.date(1992, 12, 11), datetime.date(1993, 2, 3), datetime.date(1993, 3, 12), datetime.date(1993, 4, 2), datetime.date(1993, 7, 16), datetime.date(1993, 10, 1), datetime.date(1993, 11, 12), datetime.date(1994, 1, 14), datetime.date(1994, 2, 11), datetime.date(1994, 4, 17), datetime.date(1994, 4, 14), datetime.date(1994, 6, 15), datetime.date(1994, 7, 15), datetime.date(1994, 10, 28), datetime.date(1994, 11, 11), datetime.date(1994, 12, 25), datetime.date(1995, 2, 17), datetime.date(1995, 3, 3), datetime.date(1995, 3, 24), datetime.date(1995, 4, 7), datetime.date(1995, 6, 10), datetime.date(1995, 7, 28), datetime.date(1995, 8, 11), datetime.date(1995, 9, 27), datetime.date(1995, 1, 22), datetime.date(1995, 11, 19), datetime.date(1995, 12, 22), datetime.date(1996, 2, 16), datetime.date(1996, 3, 8), datetime.date(1996, 4, 12), datetime.date(1996, 6, 19), datetime.date(1996, 8, 30), datetime.date(1996, 10, 4), datetime.date(1996, 11, 27), datetime.date(1997, 2, 14), datetime.date(1997, 3, 7), datetime.date(1997, 3, 18), datetime.date(1997, 6, 13), datetime.date(1997, 7, 16), datetime.date(1997, 8, 1), datetime.date(1997, 10, 10), datetime.date(1997, 11, 16), datetime.date(1997, 12, 25), datetime.date(1998, 3, 27), datetime.date(1998, 6, 19), datetime.date(1998, 7, 29), datetime.date(1998, 9, 29), datetime.date(1998, 11, 13), datetime.date(1998, 11, 20), datetime.date(1998, 12, 25), datetime.date(1999, 2, 12), datetime.date(1999, 3, 26), datetime.date(1999, 5, 14), datetime.date(1999, 6, 12), datetime.date(1999, 7, 23), datetime.date(1999, 5, 7), datetime.date(1999, 11, 13), datetime.date(1999, 12, 17), datetime.date(2000, 2, 11), datetime.date(2000, 3, 10), datetime.date(2000, 5, 19), datetime.date(2000, 7, 7), datetime.date(2000, 9, 29), datetime.date(2000, 11, 22), datetime.date(2000, 12, 8), datetime.date(2001, 2, 10), datetime.date(2001, 2, 27), datetime.date(2001, 6, 3), datetime.date(2001, 7, 29), datetime.date(2001, 10, 5), datetime.date(2001, 10, 28), datetime.date(2001, 11, 6), datetime.date(2002, 1, 18), datetime.date(2002, 2, 10), datetime.date(2002, 2, 26), datetime.date(2002, 3, 19), datetime.date(2002, 3, 29), datetime.date(2002, 6, 14), datetime.date(2002, 7, 21), datetime.date(2002, 10, 11), datetime.date(2002, 11, 1), datetime.date(2002, 11, 27), datetime.date(2003, 1, 21), datetime.date(2003, 2, 14), datetime.date(2003, 3, 11), datetime.date(2003, 3, 16), datetime.date(2003, 3, 31), datetime.date(2003, 4, 18), datetime.date(2003, 5, 2), datetime.date(2003, 5, 30), datetime.date(2003, 6, 28), datetime.date(2003, 8, 4), datetime.date(2003, 8, 26), datetime.date(2003, 10, 21), datetime.date(2003, 11, 1), datetime.date(2003, 11, 26), datetime.date(2003, 12, 25), datetime.date(2004, 1, 16), datetime.date(2004, 2, 20), datetime.date(2004, 2, 10), datetime.date(2004, 2, 17), datetime.date(2004, 3, 9), datetime.date(2004, 4, 2), datetime.date(2004, 4, 22), datetime.date(2004, 6, 16), datetime.date(2004, 7, 2), datetime.date(2004, 8, 11), datetime.date(2004, 8, 17), datetime.date(2004, 10, 24), datetime.date(2004, 11, 9), datetime.date(2004, 11, 19), datetime.date(2005, 1, 28), datetime.date(2004, 11, 3), datetime.date(2005, 2, 11), datetime.date(2005, 3, 4), datetime.date(2005, 3, 18), datetime.date(2005, 6, 14), datetime.date(2005, 6, 22), datetime.date(2005, 7, 29), datetime.date(2005, 3, 25), datetime.date(2005, 8, 30), datetime.date(2005, 9, 13), datetime.date(2005, 9, 30), datetime.date(2005, 10, 30), datetime.date(2005, 12, 7), datetime.date(2005, 12, 13), datetime.date(2006, 1, 13), datetime.date(2006, 1, 26), datetime.date(2006, 1, 27), datetime.date(2006, 2, 17), datetime.date(2006, 3, 10), datetime.date(2006, 4, 14), datetime.date(2006, 5, 26), datetime.date(2006, 6, 23), datetime.date(2006, 6, 24), datetime.date(2006, 8, 25), datetime.date(2006, 8, 29), datetime.date(2006, 11, 3), datetime.date(2006, 12, 12), datetime.date(2007, 2, 6), datetime.date(2007, 2, 16), datetime.date(2007, 3, 23), datetime.date(2007, 5, 19), datetime.date(2007, 6, 22), datetime.date(2007, 8, 3), datetime.date(2007, 8, 28), datetime.date(2007, 9, 23), datetime.date(2007, 10, 20), datetime.date(2007, 12, 21), datetime.date(2008, 2, 1), datetime.date(2008, 3, 7), datetime.date(2008, 5, 7), datetime.date(2008, 6, 23), datetime.date(2008, 8, 26), datetime.date(2008, 10, 28), datetime.date(2008, 10, 3), datetime.date(2008, 10, 17), datetime.date(2008, 10, 17), datetime.date(2008, 10, 23), datetime.date(2008, 11, 21), datetime.date(2008, 12, 25), datetime.date(2009, 2, 27), datetime.date(2009, 3, 11), datetime.date(2009, 4, 10), datetime.date(2007, 10, 10), datetime.date(2009, 4, 24), datetime.date(2009, 5, 13), None, datetime.date(2009, 7, 24), datetime.date(2009, 6, 5), datetime.date(2008, 1, 7), datetime.date(2009, 10, 29), datetime.date(2009, 11, 3), datetime.date(2009, 11, 25), datetime.date(2009, 11, 25), datetime.date(2010, 2, 25), datetime.date(2009, 10, 17), datetime.date(2010, 5, 9), datetime.date(2010, 6, 12), datetime.date(2010, 7, 8), datetime.date(2010, 8, 13), datetime.date(2008, 10, 26), datetime.date(2010, 9, 30), datetime.date(2010, 10, 8), datetime.date(2010, 11, 14), datetime.date(2010, 11, 30), datetime.date(2011, 2, 1), datetime.date(2011, 2, 17), datetime.date(2011, 3, 6), datetime.date(2011, 4, 22), datetime.date(2011, 4, 22), datetime.date(2011, 4, 29), datetime.date(2011, 5, 7), datetime.date(2011, 6, 18), datetime.date(2011, 4, 6), datetime.date(2011, 9, 20), datetime.date(2011, 11, 4), datetime.date(2012, 1, 31), datetime.date(2012, 2, 22), datetime.date(2012, 4, 20), datetime.date(2012, 5, 25), datetime.date(2012, 6, 10), datetime.date(2012, 8, 15), datetime.date(2012, 8, 16), datetime.date(2012, 9, 18), datetime.date(2012, 9, 20), datetime.date(2012, 10, 29), datetime.date(2013, 2, 14), datetime.date(2011, 3, 16), datetime.date(2013, 6, 5), datetime.date(2013, 6, 22), datetime.date(2013, 8, 2), datetime.date(2013, 8, 27), datetime.date(2013, 11, 19), datetime.date(2013, 10, 20), datetime.date(2014, 2, 13), datetime.date(2014, 3, 11), datetime.date(2014, 4, 18), datetime.date(2014, 5, 6), datetime.date(2014, 5, 28), datetime.date(2014, 7, 15), datetime.date(2014, 9, 19), datetime.date(2014, 10, 6), datetime.date(2014, 10, 23), datetime.date(2014, 12, 8), datetime.date(2015, 2, 9), datetime.date(2014, 12, 12), datetime.date(2015, 2, 13), datetime.date(2015, 4, 17), datetime.date(2015, 5, 9), datetime.date(2015, 5, 18), datetime.date(2015, 6, 19), datetime.date(2015, 11, 10), datetime.date(2016, 1, 25), datetime.date(2016, 2, 13), datetime.date(2016, 4, 4), datetime.date(2016, 5, 10), datetime.date(2016, 6, 8), datetime.date(2016, 5, 14), datetime.date(2016, 8, 8), datetime.date(2016, 9, 10), datetime.date(2016, 11, 14), datetime.date(2016, 12, 21), datetime.date(2005, 6, 24), datetime.date(2017, 2, 23), datetime.date(2017, 5, 11), datetime.date(2017, 5, 23), datetime.date(2017, 6, 30), datetime.date(2017, 7, 14), datetime.date(2017, 10, 29), datetime.date(2017, 10, 20), datetime.date(2018, 2, 26), datetime.date(2018, 6, 5), datetime.date(2018, 7, 30), datetime.date(2018, 10, 29), datetime.date(2018, 11, 5), datetime.date(2018, 11, 29), datetime.date(2019, 3, 11), datetime.date(2019, 4, 17), datetime.date(2019, 5, 8), datetime.date(2019, 6, 11), datetime.date(2019, 7, 9), datetime.date(2019, 10, 18), datetime.date(2019, 11, 12), datetime.date(2019, 11, 12), datetime.date(2019, 11, 7), datetime.date(2019, 12, 20), datetime.date(2020, 1, 25), datetime.date(2020, 2, 21), datetime.date(2020, 3, 13), datetime.date(2018, 3, 28), datetime.date(2020, 4, 3), datetime.date(2020, 6, 12), datetime.date(2020, 7, 3), datetime.date(2020, 7, 31), datetime.date(2020, 8, 14), datetime.date(2020, 8, 21), datetime.date(2020, 3, 9), datetime.date(2020, 12, 4), datetime.date(2020, 12, 11), datetime.date(2020, 10, 11), datetime.date(2021, 1, 1), datetime.date(2021, 2, 19), datetime.date(2021, 3, 5), datetime.date(2021, 5, 18), datetime.date(2021, 6, 13), datetime.date(2021, 7, 24), datetime.date(2021, 11, 3), datetime.date(2021, 12, 3), datetime.date(2021, 12, 23), datetime.date(2022, 3, 11), datetime.date(2022, 6, 17), datetime.date(2023, 5, 26), datetime.date(2022, 1, 7), datetime.date(2022, 1, 7), datetime.date(2022, 1, 7), datetime.date(2022, 1, 7), None, datetime.date(2021, 12, 3), datetime.date(2022, 1, 7), None, datetime.date(2022, 1, 7), datetime.date(2022, 1, 7), datetime.date(1987, 11, 25), None, None, datetime.date(2002, 6, 14), datetime.date(2007, 12, 21), None, datetime.date(1937, 12, 21), datetime.date(1991, 6, 21)]\n"
          ]
        }
      ],
      "source": [
        "# Check\n",
        "\n",
        "print([items.get('Release date (Standard)') for items in master_data])"
      ]
    },
    {
      "cell_type": "code",
      "execution_count": null,
      "id": "1e1080c3",
      "metadata": {
        "colab": {
          "base_uri": "https://localhost:8080/"
        },
        "id": "1e1080c3",
        "outputId": "259f1fc3-881a-4cac-a5a2-a88ac8d1d887"
      },
      "outputs": [
        {
          "output_type": "stream",
          "name": "stdout",
          "text": [
            "['41 minutes (74 minutes 1966 release)', '83 minutes', '88 minutes', '126 minutes', '74 minutes', '64 minutes', '70 minutes', '42 minutes', '70 min', '71 minutes', '75 minutes', '94 minutes', '73 minutes', '75 minutes', '82 minutes', '68 minutes', '74 minutes', '96 minutes', '75 minutes', '84 minutes', '77 minutes', '92 minutes', '69 minutes', '81 minutes', ['60 minutes (VHS version)', '71 minutes (original)'], '127 minutes', '92 minutes', '76 minutes', '75 minutes', '73 minutes', '85 minutes', '81 minutes', '70 minutes', '90 min.', '80 minutes', '75 minutes', '83 minutes', '83 minutes', '72 minutes', '97 minutes', '104 minutes', '93 minutes', '105 minutes', '95 minutes', '97 minutes', '134 minutes', '69 minutes', '92 minutes', '126 minutes', '79 minutes', '97 minutes', '128 minutes', '73 minutes', '91 minutes', '105 minutes', '98 minutes', '130 minutes', '89 min.', '93 minutes', '67 minutes', '98 minutes', '100 minutes', '118 minutes', '103 minutes', '110 minutes', '80 min.', '79 minutes', '91 minutes', '91 minutes', '97 minutes', '118 minutes', '139 minutes', '131 mins.', '92 minutes', '87 minutes', '116 minutes', '93 minutes', '110 min.', '110 min.', '131 minutes', '101 minutes', '108 minutes', '84 minutes', '78 minutes', '75 minutes', ['164 minutes', '(', 'Los Angeles', 'premiere)', '144 minutes', '(', 'New York City', 'premiere)', '118 minutes', '(General release)', '172 minutes', '(', \"Director's cut\", ')'], '106 minutes', '110 minutes', '99 minutes', '113 mins.', '108 minutes', '112 minutes', '93 minutes', '91 minutes', '93 minutes', '100 minutes', '100 minutes', '79 minutes', '96 minutes', '113 minutes', '89 minutes', ['118 minutes (1971 original version)', '139 minutes (1996 reconstruction version)'], '92 minutes', '88 minutes', '92 minutes', '87 minutes', '93 minutes', '93 minutes', '93 minutes', '90 Minutes', '83 minutes', '96 minutes', '88 minutes', '89 minutes', '91 minutes', '93 minutes', '92 minutes', '97 minutes', '100 minutes', '100 minutes', '89 minutes', '91 minutes', '112 minutes', '115 minutes', '95 minutes', '91 min.', '97 minutes', '104 minutes', '74 minutes', '48 minutes', '77 minutes', '104 minutes', '128 minutes', '101 minutes', '94 minutes', '104 minutes', '90 minutes', '100 minutes', '88 minutes', '93 minutes', '98 minutes', '112 minutes', '84 minutes', '97 minutes', '97 minutes', '114 minutes', '96 minutes', '97 minutes', '109 minutes', '83 minutes', '90 minutes', '107 minutes', '96 minutes', '103 minutes', '91 min', '95 minutes', '105 minutes', '113 minutes', '80 minutes', '101 minutes', '90 minutes', '74 minutes', '90 minutes', '89 minutes', '110 minutes', '74 minutes', '93 minutes', '84 minutes', '83 minutes', '74 minutes', '77 minutes', '107 minutes', '93 minutes', '88 minutes', '108 minutes', '84 minutes', '121 minutes', '89 minutes', '104 minutes', '90 minutes', '86 minutes', '84 minutes', '108 minutes', '107 minutes', '96 minutes', '98 minutes', '105 minutes', '108 minutes', '94 minutes', '106 minutes', '102 minutes', '88 minutes', '102 minutes', '102 minutes', '97 minutes', '111 minutes', '100 minutes', '96 minutes', '98 minutes', '78 minutes', '81 minutes', '108 minutes', '89 minutes', '99 minutes', '89 minutes', '81 minutes', '92 minutes', '100 minutes', '89 minutes', '79 minutes', '91 minutes', '101 minutes', '104 minutes', '103 minutes', '86 minutes', '105 minutes', '75 minutes', '93 minutes', '92 minutes', '98 minutes', '95 minutes', '93 minutes', '87 minutes', '93 minutes', '87 minutes', '128 minutes', '77 minutes', '86 minutes', '95 minutes', '114 minutes', '93 minutes', '83 minutes', '83 minutes', '88 minutes', '78 minutes', '112 minutes', '92 minutes', '75 minutes', '78 minutes', '72 minutes', '82 minutes', '104 minutes', '113 minutes', '100 minutes', '78 minutes', '83 minutes', '69 minutes', '96 minutes', '115 minutes', '86 minutes', '92 minutes', '65 minutes', '99 minutes', '73 minutes', '73 minutes', '66 minutes', '128 minutes', '85 minutes', '88 minutes', '96 minutes', '104 minutes', '95 minutes', '74 minutes', '72 minutes', '88 minutes', '75 minutes', '61 minutes', '117 minutes', '94 minutes', '100 minutes', '143 minutes', '96 minutes', '64 minutes', '87 minutes', '85 minutes', '86 minutes', '97 minutes', '74 minutes', '136 minutes', '76 minutes', '85 minutes', '65 minutes', '76 minutes', '40 minutes', '120 minutes', '84 minutes', '113 minutes', '65 minutes', '115 minutes', '67 minutes', '131 minutes', '100 minutes', '79 minutes', '68 minutes', '95 minutes', '97 minutes', '75 minutes', '100 minutes', '100 minutes', '76 minutes', '68 minutes', '67 minutes', '120 minutes', '81 minutes', '143 minutes', '72 minutes', '118 minutes', '72 minutes', '40 minutes', '120 minutes', '99 minutes', '82 minutes', '117 minutes', '72 minutes', '150 minutes', '104 minutes', '73 minutes', '92 minutes', '69 minutes', '70 minutes', '95 minutes', '94 minutes', '167 minutes', '111 minutes', '82 minutes', '87 minutes', '110 minutes', '107 minutes', '124 minutes', '74 minutes', '82 minutes', '150 minutes', '97 minutes', '77 minutes', '78 minutes', '91 minutes', '100 minutes', '112 minutes', '93 minutes', '96 minutes', '99 minutes', ['76 minutes', '85 minutes'], '98 minutes', '97 minutes', ['99 minutes (UK)', '90 minutes (U.S.)'], '101 minutes', '96 minutes', 'N/A', '90 minutes', '82 minutes', '107 minutes', '101 minutes', '96 minutes', '88 minutes', '97 minutes', '108 minutes', ['104 minutes (Original cut)', '84 minutes (Disney cut)'], '116 minutes', '103 minutes', '109 minutes', '79 minutes', '74 minutes', '123 minutes', '108 minutes', '100 minutes', '125 minutes', '84 minutes', '90 minutes', '88 minutes', '109 minutes', '89 minutes', '104 minutes', '137 minutes', '106 minutes', '63 minutes', '88 minutes', '103 minutes', '93 minutes', '132 minutes', '77 minutes', '96 minutes', '93 minutes', '104 minutes', '75 minutes', '89 minutes', '87 minutes', '101 minutes', '130 minutes', '77 minutes', '104 minutes', '149 minutes', '92 minutes', '81 minutes', '102 minutes', '125 minutes', '78 minutes', '107 minutes', '77 minutes', '124 minutes', '97 minutes', '84 minutes', '127 minutes', '81 minutes', '102 minutes', '124 minutes', '129 minutes', '76 minutes', '106 minutes', '82 minutes', '130 minutes', '95 minutes', '154 minutes', '97 minutes', '117 minutes', '108 minutes', '106 minutes', '113 minutes', '97 minutes', '118 minutes', '103 minutes', '124 minutes', '107 minutes', '161 minutes', '80 minutes', '129 minutes', '129 minutes', '102 minutes', 'N/A', '162 minutes', '114 minutes', '105 minutes', '109 minutes', '118 minutes', '104 minutes', '99 minutes', '112 minutes', '131 minutes', '112 minutes', '76 minutes', '128 minutes', '100 minutes', '118 minutes', '119 minutes', '104 minutes', '100 minutes', '104 minutes', '114 minutes', '99 minutes', '102 minutes', '107 minutes', '78 minutes', '89 minutes', '95 minutes', '160 minutes', '85 minutes', '100 minutes', '95 minutes', '115 minutes', '110 minutes', '122 minutes', '100 minutes', '121 minutes', '95 minutes', '107 minutes', '134 minutes', '95 minutes', '128 minutes', '102 minutes', '58 minutes', 'N/A', 'N/A', 'N/A', 'N/A', 'N/A', 'N/A', 'N/A', 'N/A', 'N/A', '58 minutes', 'N/A', 'N/A', 'N/A', 'N/A', '102 minutes', 'N/A', 'N/A', '85 minutes', '124 minutes', 'N/A', '83 minutes', '108 minutes']\n"
          ]
        }
      ],
      "source": [
        "# Checking that previous date string still exists\n",
        "\n",
        "print([items.get('Running time', 'N/A') for items in master_data])"
      ]
    },
    {
      "cell_type": "markdown",
      "source": [
        "This snippet will extract all the numerical values in the 'Running time' key in dictionary of movie info and convert it to integer time"
      ],
      "metadata": {
        "id": "EGS5sgBHCCuf"
      },
      "id": "EGS5sgBHCCuf"
    },
    {
      "cell_type": "code",
      "execution_count": null,
      "id": "68289102",
      "metadata": {
        "id": "68289102"
      },
      "outputs": [],
      "source": [
        "def int_time_convert(raw_time):\n",
        "    if raw_time == 'N/A':\n",
        "        return None\n",
        "    elif isinstance(raw_time, list):\n",
        "        return int(raw_time[0].split(\" \")[0])      # Grabbing just the digit\n",
        "    else:\n",
        "        return int(raw_time.split(\" \")[0])"
      ]
    },
    {
      "cell_type": "markdown",
      "source": [
        "This snippet will update all a new key value pair in the master_data list of all movie data with a integer 'Running time (int)'"
      ],
      "metadata": {
        "id": "gEzn0GWWCo7C"
      },
      "id": "gEzn0GWWCo7C"
    },
    {
      "cell_type": "code",
      "execution_count": null,
      "id": "f077d0ec",
      "metadata": {
        "id": "f077d0ec"
      },
      "outputs": [],
      "source": [
        "for dictionary in master_data:\n",
        "    dictionary['Running time (int)'] = int_time_convert(dictionary.get('Running time', 'N/A'))\n",
        "  "
      ]
    },
    {
      "cell_type": "code",
      "execution_count": null,
      "id": "331d9bd4",
      "metadata": {
        "colab": {
          "base_uri": "https://localhost:8080/"
        },
        "id": "331d9bd4",
        "outputId": "16276f1c-81a2-4f3b-f910-3896af73999c"
      },
      "outputs": [
        {
          "output_type": "stream",
          "name": "stdout",
          "text": [
            "[41, 83, 88, 126, 74, 64, 70, 42, 70, 71, 75, 94, 73, 75, 82, 68, 74, 96, 75, 84, 77, 92, 69, 81, 60, 127, 92, 76, 75, 73, 85, 81, 70, 90, 80, 75, 83, 83, 72, 97, 104, 93, 105, 95, 97, 134, 69, 92, 126, 79, 97, 128, 73, 91, 105, 98, 130, 89, 93, 67, 98, 100, 118, 103, 110, 80, 79, 91, 91, 97, 118, 139, 131, 92, 87, 116, 93, 110, 110, 131, 101, 108, 84, 78, 75, 164, 106, 110, 99, 113, 108, 112, 93, 91, 93, 100, 100, 79, 96, 113, 89, 118, 92, 88, 92, 87, 93, 93, 93, 90, 83, 96, 88, 89, 91, 93, 92, 97, 100, 100, 89, 91, 112, 115, 95, 91, 97, 104, 74, 48, 77, 104, 128, 101, 94, 104, 90, 100, 88, 93, 98, 112, 84, 97, 97, 114, 96, 97, 109, 83, 90, 107, 96, 103, 91, 95, 105, 113, 80, 101, 90, 74, 90, 89, 110, 74, 93, 84, 83, 74, 77, 107, 93, 88, 108, 84, 121, 89, 104, 90, 86, 84, 108, 107, 96, 98, 105, 108, 94, 106, 102, 88, 102, 102, 97, 111, 100, 96, 98, 78, 81, 108, 89, 99, 89, 81, 92, 100, 89, 79, 91, 101, 104, 103, 86, 105, 75, 93, 92, 98, 95, 93, 87, 93, 87, 128, 77, 86, 95, 114, 93, 83, 83, 88, 78, 112, 92, 75, 78, 72, 82, 104, 113, 100, 78, 83, 69, 96, 115, 86, 92, 65, 99, 73, 73, 66, 128, 85, 88, 96, 104, 95, 74, 72, 88, 75, 61, 117, 94, 100, 143, 96, 64, 87, 85, 86, 97, 74, 136, 76, 85, 65, 76, 40, 120, 84, 113, 65, 115, 67, 131, 100, 79, 68, 95, 97, 75, 100, 100, 76, 68, 67, 120, 81, 143, 72, 118, 72, 40, 120, 99, 82, 117, 72, 150, 104, 73, 92, 69, 70, 95, 94, 167, 111, 82, 87, 110, 107, 124, 74, 82, 150, 97, 77, 78, 91, 100, 112, 93, 96, 99, 76, 98, 97, 99, 101, 96, None, 90, 82, 107, 101, 96, 88, 97, 108, 104, 116, 103, 109, 79, 74, 123, 108, 100, 125, 84, 90, 88, 109, 89, 104, 137, 106, 63, 88, 103, 93, 132, 77, 96, 93, 104, 75, 89, 87, 101, 130, 77, 104, 149, 92, 81, 102, 125, 78, 107, 77, 124, 97, 84, 127, 81, 102, 124, 129, 76, 106, 82, 130, 95, 154, 97, 117, 108, 106, 113, 97, 118, 103, 124, 107, 161, 80, 129, 129, 102, None, 162, 114, 105, 109, 118, 104, 99, 112, 131, 112, 76, 128, 100, 118, 119, 104, 100, 104, 114, 99, 102, 107, 78, 89, 95, 160, 85, 100, 95, 115, 110, 122, 100, 121, 95, 107, 134, 95, 128, 102, 58, None, None, None, None, None, None, None, None, None, 58, None, None, None, None, 102, None, None, 85, 124, None, 83, 108]\n"
          ]
        }
      ],
      "source": [
        "# Check\n",
        "\n",
        "print([items.get('Running time (int)', 'N/A') for items in master_data])"
      ]
    },
    {
      "cell_type": "code",
      "execution_count": null,
      "id": "f5b94f7f",
      "metadata": {
        "colab": {
          "base_uri": "https://localhost:8080/"
        },
        "id": "f5b94f7f",
        "outputId": "b9b31fb8-231b-46f2-fa3c-67265d29cc74"
      },
      "outputs": [
        {
          "output_type": "stream",
          "name": "stdout",
          "text": [
            "['N/A', '$1.49 million', '$2.6 million', '$2.28 million', '$600,000', '$950,000', '$858,000', 'N/A', '$788,000', 'N/A', '$1.35 million', '$2.125 million', 'N/A', '$1.5 million', '$1.5 million', 'N/A', '$2.2 million', '$1,800,000', '$3 million', 'N/A', '$4 million', '$2 million', '$300,000', '$1.8 million', 'N/A', '$5 million', 'N/A', '$4 million', 'N/A', 'N/A', 'N/A', 'N/A', 'N/A', 'N/A', '$700,000', 'N/A', 'N/A', 'N/A', 'N/A', 'N/A', 'under $1 million or $1,250,000', 'N/A', '$2 million', 'N/A', 'N/A', '$2.5 million', 'N/A', 'N/A', '$4 million', '$3.6 million', 'N/A', 'N/A', 'N/A', 'N/A', '$3 million', 'N/A', '$3 million', 'N/A', 'N/A', 'N/A', 'N/A', 'N/A', 'N/A', 'N/A', 'N/A', 'N/A', '$3 million', 'N/A', 'N/A', 'N/A', 'N/A', '$4.4–6 million', 'N/A', 'N/A', 'N/A', 'N/A', 'N/A', 'N/A', 'N/A', 'N/A', 'N/A', 'N/A', 'N/A', '$4 million', 'N/A', '$5 million', 'N/A', 'N/A', 'N/A', 'N/A', '$5 million', 'N/A', 'N/A', 'N/A', 'N/A', 'N/A', 'N/A', '$4 million', 'N/A', 'N/A', 'N/A', '$6.3 million', 'N/A', 'N/A', 'N/A', 'N/A', 'N/A', 'N/A', 'N/A', 'N/A', '$1.5-5 million', 'N/A', 'N/A', 'N/A', 'N/A', '$8 million', 'N/A', 'N/A', 'N/A', 'N/A', 'N/A', 'AU$1 million', 'N/A', 'N/A', 'N/A', 'N/A', '$5 million', 'N/A', 'N/A', 'N/A', '$7.5 million', 'N/A', '$10 million', 'N/A', 'N/A', '$3.5 to 4 million', 'N/A', 'N/A', 'N/A', '$5.25 million', '$20 million', 'N/A', '$9 million', 'N/A', '$6-8 million', '$20 million', 'N/A', 'N/A', '$18 million', '$12 million', '$14 million', 'N/A', '', '$5 million', 'unknown', '$20 million', '$11 million', '$28 million', '$44 million', 'N/A', 'N/A', '$14 million', '$9 million', 'N/A', 'A$8.7 million', '$31 million', '$18 million', '$5 million', '$40 million', '$20 million', 'N/A', '$14 million', '60 million Norwegian Kroner (around $8.7 million in 1989)', 'N/A', '$35-40 million', '$25 million', '$15 million', '$40 million', '$14 million', '$28 million', '$12 million', 'N/A', 'N/A', '$6.5 million', '$28 million', '$17 million', '$30 million', 'N/A', '$13 million', 'N/A', 'N/A', '$45 million', '$31 million', 'N/A', '$22 million', '$30 million', 'N/A', '$22 million', ['$32 million', '(estimated)'], '$18 million', '$55 million', '$24 million', '$15 million', '$12 million', 'N/A', '$30 million', 'N/A', '$31 million', 'N/A', '$38 million', '$70 million', '$15 million', 'N/A', '$67 million', 'N/A', '$32 million', '$7 million', '$85 million', '$55 million', '$3 million', '$16 million', '$80 million', '$30 million', '$24 million', '$90 million', '$15 million', 'N/A', '$30 million', '$120 million', '$90 million', '$65 million', '$5 million', 'N/A', '$130 million', '$75–90 million', '$10 million', '$90 million', '$80–$85 million', '$15 million –$30 million', '$4,000,000 (estimated)', '$127.5 million', '$65 million', '$30 million', '$85 million', '$100 million', '$23 million', 'N/A', '$90–120 million', '$26 million', '$25 million', '$115 million', 'N/A', '$33 million', '$20 million', '$5 million', 'N/A', '$22 million', '$80 million', '$35 million', '$15 million', '$65 million', '$140 million', 'N/A', '$20 million', '$12 million', '$46 million', '$13 million', '$20 million', '$17 million', '$94 million', '$140 million', '$26 million', 'N/A', 'N/A', '$46 million', '$90 million', 'N/A', '$10 million', '$28 million', 'N/A', '$15 million', 'N/A', '$110 million', 'N/A', '$110 million', 'N/A', '$45 million', 'N/A', '$92 million', 'N/A', '$100 million', 'N/A', 'N/A', '$20 million', '$56 million', '$25 million', 'N/A', '$50 million', '$35 million', '$35 million', 'N/A', 'N/A', '$25 million', '$150 million', '$180 million', 'N/A', '$30 million', 'N/A', '$1 million', '$40 million', '$50 million', '$80 million', '$120 million', 'N/A', '$225 million', '$30 million', 'N/A', '$12 million', 'N/A', 'N/A', '$17 million', '$150 million', '$300 million', '$150 million', '$25 million', 'N/A', '$22 million', '$85 million', '$130 million', '$7 million', '$25 million', '$225 million', '$180 million', 'N/A', '$50 million', '$20 million', 'N/A', '$11 million', 'N/A', '$150 million', '$80 million', 'N/A', '$50 million', '$30 million', '$47 million', 'N/A', '$175 million', 'N/A', '$150 million', '$30—$35 million', 'N/A', '$8 million ( ₽ 350 million)', '$175–200 million', '$35 million', '$105 million', '$150 –$200 million', '$80 million', '$150–200 million', '$200 million', '$150 million', '$30—$35 million', 'N/A', '$35 million', 'N/A', '$260 million', '$170 million', 'N/A', 'N/A', '$150 million', 'N/A', '$5 million', '$8 million', ['$410.6 million (gross)', '$378.5 million (net)'], '$200 million', '$30 million', 'N/A', '$45 million', 'N/A', ['$306.6 million (gross)', '$263.7 million (net)'], '$5 million', 'N/A', '$185 million', '$25 million', '$30—35 million', 'N/A', '$39 million', '$165 million', '$200 million', 'N/A', '$200 million', '$225–250 million', '$50 million', 'N/A', '$150 million', '$35 million', 'N/A', '$51 million', '$5 million', '$25 million', '$180–263 million', '$50 million', '(US$3.1 million)', '$28 million', '$165 million', '$50 million', '$17 million', 'N/A', '$84.21-95 million', '$5–10 million', '$180–190 million', '$175 million', '', '$175–200 million', '$70–80 million', '$150 million', '$175–177 million', '$170 million', '$175–200 million', '$140 million', '$65 million', '$15 million', '$150–175 million', '(US$9.3 million)', '$8 million', '$160–255 million', '$230–320 million', '$175 million', 'N/A', ['131 crore'], ['~$8 million', '₽', '370 million'], '$175–225 million', '$100–130 million', '$200 million', '$75 million', '$120–133 million', '$175 million', '$130 million', '$170 million', 'N/A', '$183 million', '$200 million', '$250–260 million', '$185 million', '$60 million', 'N/A', '$150 million', '$40 million', '$42 million', '$175–200 million', 'N/A', 'N/A', 'N/A', '$125 million', '$12.5 million (stage production)', 'N/A', '$24 million', 'N/A', '$200 million', 'Unknown', '$26 million', '$150 million+', '₽ 650 million', 'Unknown', '$100 million', '$100 million', 'N/A', '$200 million', '$120–150 million', 'N/A', '₽ 454 237 000', 'N/A', 'N/A', 'N/A', 'N/A', 'N/A', 'N/A', 'N/A', '$53.4 million', 'N/A', 'N/A', 'N/A', 'N/A', 'N/A', '$11 million', 'N/A', 'N/A', '$80 million', '$130 million', 'N/A', '$1.49 million', '$35-40 million']\n"
          ]
        }
      ],
      "source": [
        "# Checking different forms of strings\n",
        "\n",
        "print([items.get(\"Budget\", 'N/A') for items in master_data])\n"
      ]
    },
    {
      "cell_type": "code",
      "execution_count": null,
      "id": "27d69088",
      "metadata": {
        "colab": {
          "base_uri": "https://localhost:8080/"
        },
        "id": "27d69088",
        "outputId": "1c432b07-0bc2-4f05-9efb-9b2570bdf5e5"
      },
      "outputs": [
        {
          "output_type": "stream",
          "name": "stdout",
          "text": [
            "['$45.472', '$418 million', '$164 million', '$76.4–$83.3 million (United States and Canada)', '$960,000 (worldwide rentals)', '>$1.3 million (est. United States/Canada rentals, 1941)', '$267.4 million', '$1.135 million (worldwide rentals)', '$799,000', '$3.355 million (worldwide rentals)', '$3.275 million (worldwide rentals)', '$65 million', '$3.165 million (worldwide rentals)', '$2.56 million (worldwide rentals)', '$3.7 million (U.S. rental) $575,000 (foreign rental)', '$1.625 million (worldwide rentals)', '$182 million', '$4,100,000 (worldwide rentals)', ['$2.4 million (1951, domestic)', '$3.5 million (1974, domestic)'], '$2.1 million (US rentals)', '$87.4 million (United States and Canada)', '$1 million (US)', '$2.6 million (US)', 'N/A', '$1.75 million (US and Canadian rentals)', '$28.2 million', '$2,150,000 (US)', '$187 million', '$2.1 million (US)', '$1.6 million (US)', '$1.7 million (US)', 'N/A', 'N/A', '$2.75 million (US)', 'N/A', '$1.75 million (US rentals)', '$6,250,000 (U.S./Canada rentals)', 'N/A', '$1.8 million (est. US/Canada rentals)', '$2.5 million (est. US/ Canada rentals)', '$12.3 million (US and Canada rentals)', ['Original release', ':', '$2.6 million (est. US/ Canada rentals)', '1969 re-release', ':', '$2.3 million  (US/ Canada rentals)'], '$1,700,000 (US/Canada rentals)', '$3,100,000 (US/Canada rentals)', 'N/A', '$3.75 million (US and Canadian rentals)', '$2.3 million (US and Canadian rentals)', 'N/A', '$40 million', '$303 million', '$25.4 million', '$25.1 million', 'N/A', 'N/A', '$4.6 million (U.S./Canada rentals)', '$3.5 million', '$5 million (rentals)', 'N/A', 'N/A', 'N/A', '$21,745,500', '$22.1 million', '$2,550,000 (US/ Canada)', '$3,000,000 (U.S./Canada)', '$4,350,000 (US/ Canada rentals)', '$4.2 million (US/Canada) (rentals)', '$22.2 million (United States and Canada)', 'est. $1,600,000 (US/ Canada)', '$4,000,000 (US/ Canada)', '$2,250,000 (US/ Canada)', 'est. $3,500,000 (US/ Canada)', '$103.1 million', '$3,500,000 (US/ Canada rentals)', '$1,275,000', '$4,000,000 (US/Canada rentals)', '$28,068,222', '$6.2 million (est. US/ Canada rentals)', '$22,565,634', 'N/A', '$16,207,116', '$3,000,000 (US/ Canada)', '$1,900,000 (US/ Canada)', '$4,000,000 (US/ Canada)', '$378 million', 'N/A', '$5 million (U.S./Canada rentals)', '$21,540,050', '$2,250,000 (US/ Canada)', '$4,150,000 (US/ Canada rentals)', '$3.3 million  (US/ Canada rentals)', '$51.3 million', '$1.3 million (US/ Canada rentals)', 'N/A', '$5.5 million (US/ Canada rentals)', 'N/A', '$18,607,492', '$4 million (rentals) (US/Canada)', '$191 million', 'N/A', 'N/A', '$5.1 million (North America) (rentals)', '$17.9 million', 'N/A', '$4,610,000 (US/Canada) (rentals)', 'N/A', 'N/A', '$6,100,000 (US/ Canada rentals)', '$22,583,370', 'N/A', '$2 million', '$32 million', '$7 million (US/Canada rentals)', ['$38,229,000 (US/Canada gross)', '$30.8 million (worldwide rentals)'], '$4 million (rentals) (US/Canada)', 'N/A', '$10 million (US/Canada rentals)', '$6.6 million (US/Canada rentals)', '$20,000,000', '$36,853,000', '$5.5 million (North American rentals)', 'N/A', 'N/A', 'N/A', 'N/A', '$21,873,000', '$10.5 million (US and Canada rentals)', '$36 million', 'N/A', 'N/A', 'N/A', '$169 million', '$29 million', '$36 –39.6 million', 'N/A', 'N/A', 'N/A', 'N/A', 'N/A', '$20,931,111', 'N/A', ['$35.8 million'], '$2.9 million', '$5 million', '$18 million', '$11 million', '$60 million', '$16 million (USA)', 'N/A', '$14.1 million', '$63.5 million', 'N/A', '$8 million', '', '$7.4 million', '$4,304,286 (US)', '$8.4 million', '$27.6 million', '$11.1 million (USA)', '$21.3 million', '$9.7 million (U.S. and Canada only)', '$13 million', '$38.7 million', '$18,564,613', '$22.3 million', '$13,687,027', '>$121 million', '$222.7 million', '$8,153,677 (United States)', '', '$18.1 million', '$47.4 million', '$34.8 million', '$15.1 million', '$7.3 million', '$46.7 million (USA)', '$440.1 million', '$2.8 million', '$96 million', '$50.8 million', '$504.1 million', '$27.2 million', '$57 million', '$12.9 million', '$24.1 million', '$45.4 million', '$154.9 million', '$53.9 million', '$21 million', '$39 million', '$45.6 million', '$8,878,839 (US)', '$968.5 million', '$50.2 million', '$3,337,685', '$189.8 million', '$43.2 million', '$17.6 million', '$40,070,995', '$11 million', '$37.6 million', '$346.1 million', '$24,670,346', '$13.4 million (domestic)', '$17.7 million', 'N/A', '$373 million', '$23.9 million (US)', '$34.3 million (North America)', '$32.7 million', '$37.7 million', '$325.3 million', '$26,465,920 (USA)', '$22.9 million', '$320.7 million', '$18.3 million', '$59.9 million', 'N/A', '$252.7 million', '$174.4 million', '$27.8 million', '$15.4 million', '$178 million', '$28.9 million', '$4.4 million', '$304.3 million', '$92.1 million', 'N/A', '$12.2 million', '$363.3 million', '$50.6 million (US)', '$36.8 million', '$19.4 million', 'N/A', '$448.2 million', '$134.4 million', '$6.2 million', '$497.4 million', '$90.9 million', '$96.2 million', '$500,000 (USA) (30 November 2000)', '$349.8 million', '$110.3 million', '$136.8 million', '$183.6 million', '$169.6 million', '$44.5 million', 'N/A', '$186.1 million', '$165.3 million', '$18.6 million', '$577.4 million', 'N/A', '$115 million', '$115.1 million', 'N/A', 'N/A', '$80.7 million', '$273.1 million', '$18 million', '$19.3 million', '$172.9 million', '$109.6 million', 'N/A', '$135.7 million', 'N/A', '$62.9 million', '$28.7 million', '$71.4 million', '$55.5 million', '$940.3 million', '$654.3 million', '$160.8 million', 'N/A', 'N/A', '$250.4 million', '$182.3 million', '$9,638,389', '$6.5 million', '$64.5 million', 'N/A', '$105.1 million', 'N/A', '$145.5 million', '$1,108,356', '$72.2 million', '$314,402', '$134.7 million', 'N/A', '$633 million', 'N/A', '$347.5 million', '$9 million', 'N/A', '$52.9 million', '$198.6 million', '$27.6 million', 'N/A', '$144.1 million', '$86.4 million', '$61.7 million', 'N/A', 'N/A', '$15.4 million', '$314.4 million', '$745 million', 'N/A', '$42.9 million', '$35 Million', '$11 million', '$120.5 million', '$87.1 million', '$102.3 million', '$462 million', 'N/A', '$1.066 billion', '$58.5 million', 'N/A', '$110.8 million', 'N/A', 'N/A', '$137.6 million', '$169.3 million', '$960.9 million', '$623.7 million', '$65.3 million', 'N/A', '$146.6 million', '$340.5 million', '$459.2 million', '$70.6 million', '$51.5 million', '$419.7 million', '$521.3 million', 'N/A', '$9.2 million', '$149.3 million', '$275,776', '$252.9 million', '$2 million', '$310 million', '$212.9 million', '$23.1 million', '$106.4 million', '$155.5 million', '$109 million', '$55,513', '$735.1 million', 'N/A', '$292.8 million', '$8,582,265', 'N/A', '$11.3 million', '$325 million', '$96.8 million', '$271 million', '$1.025 billion', '$82.7 million', '$336.4 million', '$1.067 billion', '$215.3 million', '$10,872,752', 'N/A', '$60.3 million', 'N/A', '$592.4 million', '$400.1 million', '$29.6 million', 'N/A', '$39.2 million', 'N/A', '$30.9 million', '$10.7 million', '$1.046 billion', '$559.8 million', '$50.1 million', 'N/A', '$165.2 million', 'N/A', '$284.1 million', '$34.8 million', 'N/A', '$540.4 million', '$56 million', '$67.5 million', '$12.2 million', '$81.5 million', '$471.2 million', '$493.3 million', 'N/A', '$743.6 million', '$260.5 million', '$239.3 million', 'N/A', '$1.280 billion', '$117.9 million', '$64.9 million', '$80.4 million', '$21.3 million', '$40.2 million', '$758.5 million', '$147 million', 'est. (US$11 million)', '$100.6 million', '$657.9 million', '$213.1 million', '$45.7 million', '$31.2 million (non-US box office)', '$542.4 million', '$17.1 million', '$209 million', '$858.8 million', 'est.', '$332.2 million', '$52.1 million', '$1.024 billion', '$966.6 million', '$299.5 million', '$1.029 billion', '$195.2 million', '$143.7 million', '$10.4 million', '$645 million', '(US$270 million)', '$127.4 million', '$1.264 billion', '$794.9 million', '$383.9 million', 'N/A', '83 crore', ['$30.5 million', '₽', '1.731 billion'], '$807.8 million', '$133.4 million', '$1.245 billion', '$197.7 million', '$174 million', '$529.3 million', '$349.5 million', '$353.3 million', '$7.7\\n million', '', '$1.073 billion', '$1.663 billion', '$491.7 million', 'N/A', 'N/A', '$1.450 billion', 'N/A', 'N/A', '$141.9 million', 'N/A', 'N/A', 'N/A', 'N/A', 'N/A', 'N/A', 'N/A', 'N/A', '$70 million', 'N/A', 'N/A', '$121 million', ['₽ 2.046 billion', '$28.3 million (Worldwide)', '$28.6 million (Russia/ CIS )'], 'N/A', '$130.2 million', '$233.3 million', '$49.7 million', '$220.9 million', '$207.5 million', 'N/A', '₽ 1 billion', 'N/A', 'N/A', 'N/A', 'N/A', 'N/A', 'N/A', 'N/A', 'N/A', 'N/A', 'N/A', 'N/A', 'N/A', 'N/A', '$240 million', 'N/A', 'N/A', '$273.1 million', '$459.2 million', 'N/A', '$418 million', '$46.7 million (USA)']\n"
          ]
        }
      ],
      "source": [
        "## Checking different forms of strings\n",
        "\n",
        "print([items.get(\"Box office\", 'N/A') for items in master_data])"
      ]
    },
    {
      "cell_type": "markdown",
      "source": [
        "This code snippet will handle all the edge cases and convert all the dollars to a numerical value"
      ],
      "metadata": {
        "id": "MqKreLBNDe9Q"
      },
      "id": "MqKreLBNDe9Q"
    },
    {
      "cell_type": "code",
      "execution_count": null,
      "id": "f08a95d0",
      "metadata": {
        "id": "f08a95d0"
      },
      "outputs": [],
      "source": [
        "def dollars_to_float(dollars):\n",
        "    try:\n",
        "        if dollars == 'N/A':\n",
        "            return None\n",
        "    \n",
        "        if isinstance(dollars, list):\n",
        "            \n",
        "            if 'Original release' in dollars:\n",
        "                dollars = dollars[2]\n",
        "                return float(dollars.split(' ')[0].lstrip('$'))*1000000\n",
        "                \n",
        "            if 'million' in dollars:\n",
        "                dollars = dollars[0]\n",
        "                return float(dollars.split(' ')[0].lstrip('$'))*1000000\n",
        "                \n",
        "            else:\n",
        "                dollars = \"\".join([i for i in dollars if i.isdigit()])\n",
        "                return float(dollars)\n",
        "        else:\n",
        "            if '>$' in dollars:         # special edge case\n",
        "                return float(dollars.split(' ')[0].lstrip('>').lstrip('$'))*1000000\n",
        "            if 'under' in dollars:      # special edge case\n",
        "                return float(dollars.split(' ')[1].lstrip('$'))*1000000\n",
        "            if '$76.4–$83.3 million' in dollars:     # special edge case\n",
        "                return float(76.4)*1000000\n",
        "            elif 'million' in dollars:\n",
        "                return float(dollars.split(' ')[0].lstrip('$'))*1000000\n",
        "            else:\n",
        "                dollars = \"\".join([i for i in dollars if i.isdigit()])\n",
        "                return float(dollars)\n",
        "    except:\n",
        "        return '-'\n",
        "        print(\"Invalid Type\")\n",
        "        print(dollars)\n",
        "        "
      ]
    },
    {
      "cell_type": "markdown",
      "source": [
        "Appending th eupdated key value pair in the master_data list"
      ],
      "metadata": {
        "id": "V7JC00ZDDpdk"
      },
      "id": "V7JC00ZDDpdk"
    },
    {
      "cell_type": "code",
      "execution_count": null,
      "id": "e1cd950c",
      "metadata": {
        "id": "e1cd950c"
      },
      "outputs": [],
      "source": [
        "for dictionary in master_data:\n",
        "    dictionary['Budget (float)'] = dollars_to_float(dictionary.get(\"Budget\", 'N/A'))"
      ]
    },
    {
      "cell_type": "code",
      "execution_count": null,
      "id": "ae2bbc75",
      "metadata": {
        "id": "ae2bbc75"
      },
      "outputs": [],
      "source": [
        "for dictionary in master_data:\n",
        "    dictionary['Box office (float)'] = dollars_to_float(dictionary.get(\"Box office\", 'N/A'))"
      ]
    },
    {
      "cell_type": "code",
      "execution_count": null,
      "id": "6ee850a4",
      "metadata": {
        "colab": {
          "base_uri": "https://localhost:8080/"
        },
        "id": "6ee850a4",
        "outputId": "bb11198d-dab3-4820-dab9-f5e9de2c98ce"
      },
      "outputs": [
        {
          "output_type": "execute_result",
          "data": {
            "text/plain": [
              "{'Based on': ['Snow White', 'by The', 'Brothers Grimm'],\n",
              " 'Box office': '$418 million',\n",
              " 'Box office (float)': 418000000.0,\n",
              " 'Budget': '$1.49 million',\n",
              " 'Budget (float)': 1490000.0,\n",
              " 'Country': 'United States',\n",
              " 'Directed by': ['David Hand',\n",
              "  'William Cottrell',\n",
              "  'Wilfred Jackson',\n",
              "  'Larry Morey',\n",
              "  'Perce Pearce',\n",
              "  'Ben Sharpsteen'],\n",
              " 'Distributed by': 'RKO Radio Pictures',\n",
              " 'Language': 'English',\n",
              " 'Music by': ['Frank Churchill', 'Paul Smith', 'Leigh Harline'],\n",
              " 'Produced by': 'Walt Disney',\n",
              " 'Production company': 'Walt Disney Productions',\n",
              " 'Release date': ['December 21, 1937 ( Carthay Circle Theatre )'],\n",
              " 'Release date (Standard)': datetime.date(1937, 12, 21),\n",
              " 'Running time': '83 minutes',\n",
              " 'Running time (int)': 83,\n",
              " 'Starring': ['Adriana Caselotti',\n",
              "  'Lucille La Verne',\n",
              "  'Harry Stockwell',\n",
              "  'Roy Atwell',\n",
              "  'Pinto Colvig',\n",
              "  'Otis Harlan',\n",
              "  'Scotty Mattraw',\n",
              "  'Billy Gilbert',\n",
              "  'Eddie Collins',\n",
              "  'Moroni Olsen',\n",
              "  'Stuart Buchanan'],\n",
              " 'Title': 'Snow White and the Seven Dwarfs',\n",
              " 'Written by': ['Ted Sears',\n",
              "  'Richard Creedon',\n",
              "  'Otto Englander',\n",
              "  'Dick Rickard',\n",
              "  'Earl Hurd',\n",
              "  'Merrill De Maris',\n",
              "  'Dorothy Ann Blank',\n",
              "  'Webb Smith']}"
            ]
          },
          "metadata": {},
          "execution_count": 25
        }
      ],
      "source": [
        "# Check\n",
        "\n",
        "master_data[1]"
      ]
    },
    {
      "cell_type": "markdown",
      "source": [
        "### Since, datetime object is not seriazable in JSON we can save this data as pickle file"
      ],
      "metadata": {
        "id": "Ovpn41nFD0mh"
      },
      "id": "Ovpn41nFD0mh"
    },
    {
      "cell_type": "markdown",
      "source": [
        "This snippet defines function to save and load a pickle file\n",
        "\n",
        "*We are just defining the function here and not saving it because we still have to update the data*"
      ],
      "metadata": {
        "id": "HmK_k9oqD_Pz"
      },
      "id": "HmK_k9oqD_Pz"
    },
    {
      "cell_type": "code",
      "execution_count": null,
      "id": "2f96d680",
      "metadata": {
        "id": "2f96d680"
      },
      "outputs": [],
      "source": [
        "import pickle\n",
        "\n",
        "def saveas_pickle(filename, data):\n",
        "    with open(filename, 'wb') as fh:\n",
        "        pickle.dump(data, fh)\n",
        "        \n",
        "        \n",
        "def load_pickle(filename):\n",
        "    with open(filename, 'rb') as fh:\n",
        "        return pickle.load(fh)"
      ]
    },
    {
      "cell_type": "markdown",
      "source": [
        "# We need to add some more field in the master_data like say Imdb ratings, Metascore which was not avaialable at the wikipedia\n",
        "\n",
        "### We will use RESTful API (in our case http://www.omdbapi.com) to get those additional data and then finally integrate it to our data"
      ],
      "metadata": {
        "id": "p1bZSdadEJR-"
      },
      "id": "p1bZSdadEJR-"
    },
    {
      "cell_type": "code",
      "execution_count": null,
      "id": "33bdc5a8",
      "metadata": {
        "id": "33bdc5a8"
      },
      "outputs": [],
      "source": [
        "# Importing necessary libraries to start API calls\n",
        "\n",
        "import requests\n",
        "import urllib\n",
        "import os\n",
        "\n",
        "url = 'http://www.omdbapi.com/?'"
      ]
    },
    {
      "cell_type": "code",
      "execution_count": null,
      "id": "8295a756",
      "metadata": {
        "id": "8295a756"
      },
      "outputs": [],
      "source": [
        "# Defining some useful functions\n",
        "# 1. get_omdb_info(title) to get info of each movie from omdb api calls based on title\n",
        "# 2. get_rottentomato_score(omdb_info) for getting exact score by scrolling in the value list of 'Ratings' key\n",
        "\n",
        "# Also note that 'API_KEY' environment variable can be set from 'sysdm.cpl'\n",
        "\n",
        "def get_omdb_info(title):\n",
        "    parameters = {'apikey':'Enter Your Key Here', 't': title}\n",
        "    header = urllib.parse.urlencode(parameters)\n",
        "    full_url = url + header\n",
        "    return requests.get(full_url).json()\n",
        "\n",
        "def get_rottentomato_score(omdb_info):\n",
        "    ratings = omdb_info.get('Ratings', [])\n",
        "    for rating in ratings:\n",
        "        if rating['Source'] == 'Rotten Tomatoes':\n",
        "            return rating['Value']\n",
        "    return None      # If we have nothing to iterate on inside the 'Ratings' we return None"
      ]
    },
    {
      "cell_type": "code",
      "execution_count": null,
      "id": "dad7d536",
      "metadata": {
        "collapsed": true,
        "colab": {
          "base_uri": "https://localhost:8080/"
        },
        "id": "dad7d536",
        "outputId": "9161d03b-9859-4181-8c79-2ef65b119e42"
      },
      "outputs": [
        {
          "output_type": "stream",
          "name": "stdout",
          "text": [
            "Getting 1 out of 491\n",
            "Getting 51 out of 491\n",
            "Getting 101 out of 491\n",
            "Getting 151 out of 491\n",
            "Getting 201 out of 491\n",
            "Getting 251 out of 491\n",
            "Getting 301 out of 491\n",
            "Getting 351 out of 491\n",
            "Getting 401 out of 491\n",
            "Getting 451 out of 491\n"
          ]
        }
      ],
      "source": [
        "# Now updating the values out of omdb_info to the master_data\n",
        "\n",
        "for index, dictionary in enumerate(master_data):\n",
        "    if (index)%50 == 0:\n",
        "      print('Getting', index+1, 'out of', len(master_data))\n",
        "    title = dictionary['Title']\n",
        "    omdb_info = get_omdb_info(title)\n",
        "    dictionary['Genre'] = omdb_info.get('Genre', None)\n",
        "    dictionary['Movie Plot'] = omdb_info.get('Plot', None)\n",
        "    dictionary['Awards'] = omdb_info.get('Awards', None)\n",
        "    dictionary['Imdb Rating'] = omdb_info.get('imdbRating', None)\n",
        "    dictionary['Metascore'] = omdb_info.get('Metascore', None)\n",
        "    dictionary['Rotten Tomatoes Score'] = get_rottentomato_score(omdb_info)\n",
        "    "
      ]
    },
    {
      "cell_type": "code",
      "execution_count": null,
      "id": "39577863",
      "metadata": {
        "collapsed": true,
        "colab": {
          "base_uri": "https://localhost:8080/"
        },
        "id": "39577863",
        "outputId": "05a5b1c6-88ae-4bfb-c9a4-965548210bdc"
      },
      "outputs": [
        {
          "output_type": "execute_result",
          "data": {
            "text/plain": [
              "{'Awards': 'N/A',\n",
              " 'Box office (float)': None,\n",
              " 'Budget (float)': None,\n",
              " 'Cinematography': ['Mahyar Abousaeedi', 'Jonathan Pytko'],\n",
              " 'Country': 'United States',\n",
              " 'Directed by': 'Domee Shi',\n",
              " 'Distributed by': ['Walt Disney Studios', 'Motion Pictures'],\n",
              " 'Edited by': ['Nicholas C. Smith', 'Steve Bloom'],\n",
              " 'Genre': 'Animation, Adventure, Comedy',\n",
              " 'Imdb Rating': 'N/A',\n",
              " 'Language': 'English',\n",
              " 'Metascore': 'N/A',\n",
              " 'Movie Plot': 'A 13-year-old girl named Mei Lee turns into a giant red panda whenever she gets too excited.',\n",
              " 'Music by': 'Ludwig Göransson',\n",
              " 'Produced by': 'Lindsey Collins',\n",
              " 'Production companies': ['Walt Disney Pictures', 'Pixar Animation Studios'],\n",
              " 'Release date': ['March 11, 2022 (United States)'],\n",
              " 'Release date (Standard)': datetime.date(2022, 3, 11),\n",
              " 'Rotten Tomatoes Score': None,\n",
              " 'Running time (int)': None,\n",
              " 'Screenplay by': ['Julia Cho', 'Domee Shi'],\n",
              " 'Starring': ['Rosalie Chiang',\n",
              "  'Sandra Oh',\n",
              "  'Ava Morse',\n",
              "  'Maitreyi Ramakrishnan',\n",
              "  'Hyein Park',\n",
              "  'Orion Lee',\n",
              "  'Wai Ching Ho',\n",
              "  'James Hong'],\n",
              " 'Title': 'Turning Red'}"
            ]
          },
          "metadata": {},
          "execution_count": 31
        }
      ],
      "source": [
        "# Checking that new entries extracted through omdb API call is added to the entry\n",
        "\n",
        "master_data[-21]\n",
        "\n",
        "# Notice\n",
        "# 'Genre': 'Animation, Adventure, Comedy',\n",
        "#  'Movie Plot': 'The romantic tale of a sheltered uptown Cocker Spaniel dog and a streetwise downtown Mutt.',\n",
        "#  'Awards': 'Nominated for 1 BAFTA Film Award1 win & 2 nominations total',\n",
        "#  'Imdb Rating': '7.3',\n",
        "#  'Metascore': '78',\n",
        "#  'Rotten Tomatoes Score': '93%'"
      ]
    },
    {
      "cell_type": "markdown",
      "source": [
        "## Saving as pickle file"
      ],
      "metadata": {
        "id": "Lexv8V-pFww2"
      },
      "id": "Lexv8V-pFww2"
    },
    {
      "cell_type": "code",
      "execution_count": null,
      "id": "c2eb3b8c",
      "metadata": {
        "id": "c2eb3b8c"
      },
      "outputs": [],
      "source": [
        "# Now saving the data as a new pickle file\n",
        "\n",
        "saveas_pickle('cleaned_and_added_data_from_omdb.pickle', master_data)\n",
        "\n",
        "# Check the local folder for the pickle file"
      ]
    },
    {
      "cell_type": "code",
      "execution_count": null,
      "id": "9be806b6",
      "metadata": {
        "colab": {
          "base_uri": "https://localhost:8080/"
        },
        "id": "9be806b6",
        "outputId": "a250b28d-9f62-4114-9da3-c5091c724aee"
      },
      "outputs": [
        {
          "output_type": "execute_result",
          "data": {
            "text/plain": [
              "{'Awards': 'Won 1 Oscar. 11 wins & 6 nominations total',\n",
              " 'Based on': ['Snow White', 'by The', 'Brothers Grimm'],\n",
              " 'Box office': '$418 million',\n",
              " 'Box office (float)': 418000000.0,\n",
              " 'Budget': '$1.49 million',\n",
              " 'Budget (float)': 1490000.0,\n",
              " 'Country': 'United States',\n",
              " 'Directed by': ['David Hand',\n",
              "  'William Cottrell',\n",
              "  'Wilfred Jackson',\n",
              "  'Larry Morey',\n",
              "  'Perce Pearce',\n",
              "  'Ben Sharpsteen'],\n",
              " 'Distributed by': 'RKO Radio Pictures',\n",
              " 'Genre': 'Animation, Adventure, Family',\n",
              " 'Imdb Rating': '7.6',\n",
              " 'Language': 'English',\n",
              " 'Metascore': '95',\n",
              " 'Movie Plot': 'Exiled into the dangerous forest by her wicked stepmother, a princess is rescued by seven dwarf miners who make her part of their household.',\n",
              " 'Music by': ['Frank Churchill', 'Paul Smith', 'Leigh Harline'],\n",
              " 'Produced by': 'Walt Disney',\n",
              " 'Production company': 'Walt Disney Productions',\n",
              " 'Release date': ['December 21, 1937 ( Carthay Circle Theatre )'],\n",
              " 'Release date (Standard)': datetime.date(1937, 12, 21),\n",
              " 'Rotten Tomatoes Score': None,\n",
              " 'Running time': '83 minutes',\n",
              " 'Running time (int)': 83,\n",
              " 'Starring': ['Adriana Caselotti',\n",
              "  'Lucille La Verne',\n",
              "  'Harry Stockwell',\n",
              "  'Roy Atwell',\n",
              "  'Pinto Colvig',\n",
              "  'Otis Harlan',\n",
              "  'Scotty Mattraw',\n",
              "  'Billy Gilbert',\n",
              "  'Eddie Collins',\n",
              "  'Moroni Olsen',\n",
              "  'Stuart Buchanan'],\n",
              " 'Title': 'Snow White and the Seven Dwarfs',\n",
              " 'Written by': ['Ted Sears',\n",
              "  'Richard Creedon',\n",
              "  'Otto Englander',\n",
              "  'Dick Rickard',\n",
              "  'Earl Hurd',\n",
              "  'Merrill De Maris',\n",
              "  'Dorothy Ann Blank',\n",
              "  'Webb Smith']}"
            ]
          },
          "metadata": {},
          "execution_count": 37
        }
      ],
      "source": [
        "# Check\n",
        "\n",
        "master_data[-2]"
      ]
    },
    {
      "cell_type": "markdown",
      "id": "cbe0b0fc",
      "metadata": {
        "id": "cbe0b0fc"
      },
      "source": [
        "# Now we are going to save the data in JSON as well as CSV format"
      ]
    },
    {
      "cell_type": "markdown",
      "id": "993ded5d",
      "metadata": {
        "id": "993ded5d"
      },
      "source": [
        "## Saving as JSON"
      ]
    },
    {
      "cell_type": "raw",
      "id": "b599d4c7",
      "metadata": {
        "id": "b599d4c7"
      },
      "source": [
        "#### The challenge with JSON is: datetime object is not seriazable in JSON\n",
        "#### So we need to convert the datetime object back to string to save it as JSON \n",
        "\n",
        "#### But first of all we need to make a copy of previous data using .copy() method"
      ]
    },
    {
      "cell_type": "code",
      "execution_count": null,
      "id": "096d3aa1",
      "metadata": {
        "id": "096d3aa1"
      },
      "outputs": [],
      "source": [
        "master_data_copy = [movie_info.copy() for movie_info in master_data]"
      ]
    },
    {
      "cell_type": "code",
      "execution_count": null,
      "id": "93fbb87f",
      "metadata": {
        "colab": {
          "base_uri": "https://localhost:8080/"
        },
        "id": "93fbb87f",
        "outputId": "5ce26755-d3f8-44c6-a187-71825b10c0b0"
      },
      "outputs": [
        {
          "output_type": "execute_result",
          "data": {
            "text/plain": [
              "{'Awards': 'Won 1 Oscar. 11 wins & 6 nominations total',\n",
              " 'Based on': ['Snow White', 'by The', 'Brothers Grimm'],\n",
              " 'Box office': '$418 million',\n",
              " 'Box office (float)': 418000000.0,\n",
              " 'Budget': '$1.49 million',\n",
              " 'Budget (float)': 1490000.0,\n",
              " 'Country': 'United States',\n",
              " 'Directed by': ['David Hand',\n",
              "  'William Cottrell',\n",
              "  'Wilfred Jackson',\n",
              "  'Larry Morey',\n",
              "  'Perce Pearce',\n",
              "  'Ben Sharpsteen'],\n",
              " 'Distributed by': 'RKO Radio Pictures',\n",
              " 'Genre': 'Animation, Adventure, Family',\n",
              " 'Imdb Rating': '7.6',\n",
              " 'Language': 'English',\n",
              " 'Metascore': '95',\n",
              " 'Movie Plot': 'Exiled into the dangerous forest by her wicked stepmother, a princess is rescued by seven dwarf miners who make her part of their household.',\n",
              " 'Music by': ['Frank Churchill', 'Paul Smith', 'Leigh Harline'],\n",
              " 'Produced by': 'Walt Disney',\n",
              " 'Production company': 'Walt Disney Productions',\n",
              " 'Release date': ['December 21, 1937 ( Carthay Circle Theatre )'],\n",
              " 'Release date (Standard)': datetime.date(1937, 12, 21),\n",
              " 'Rotten Tomatoes Score': None,\n",
              " 'Running time': '83 minutes',\n",
              " 'Running time (int)': 83,\n",
              " 'Starring': ['Adriana Caselotti',\n",
              "  'Lucille La Verne',\n",
              "  'Harry Stockwell',\n",
              "  'Roy Atwell',\n",
              "  'Pinto Colvig',\n",
              "  'Otis Harlan',\n",
              "  'Scotty Mattraw',\n",
              "  'Billy Gilbert',\n",
              "  'Eddie Collins',\n",
              "  'Moroni Olsen',\n",
              "  'Stuart Buchanan'],\n",
              " 'Title': 'Snow White and the Seven Dwarfs',\n",
              " 'Written by': ['Ted Sears',\n",
              "  'Richard Creedon',\n",
              "  'Otto Englander',\n",
              "  'Dick Rickard',\n",
              "  'Earl Hurd',\n",
              "  'Merrill De Maris',\n",
              "  'Dorothy Ann Blank',\n",
              "  'Webb Smith']}"
            ]
          },
          "metadata": {},
          "execution_count": 39
        }
      ],
      "source": [
        "master_data_copy[-2]"
      ]
    },
    {
      "cell_type": "markdown",
      "source": [
        "This snippet will replace all the datetime object in the copy set to the string date"
      ],
      "metadata": {
        "id": "aUOY2XBAF70s"
      },
      "id": "aUOY2XBAF70s"
    },
    {
      "cell_type": "code",
      "execution_count": null,
      "id": "c6c2b464",
      "metadata": {
        "id": "c6c2b464"
      },
      "outputs": [],
      "source": [
        "for items in master_data_copy:\n",
        "    datetime_object = items['Release date (Standard)']\n",
        "    if datetime_object:                                               # Checking if it exists\n",
        "        items['Release date (Standard)'] = datetime_object.strftime('%B %d, %Y')\n",
        "    else:\n",
        "        items['Release date (Standard)'] = None       "
      ]
    },
    {
      "cell_type": "code",
      "execution_count": null,
      "id": "cd831884",
      "metadata": {
        "collapsed": true,
        "colab": {
          "base_uri": "https://localhost:8080/"
        },
        "id": "cd831884",
        "outputId": "df100a94-6f88-4cd5-f68e-063db9730132"
      },
      "outputs": [
        {
          "output_type": "execute_result",
          "data": {
            "text/plain": [
              "{'Awards': 'Won 1 Oscar. 11 wins & 6 nominations total',\n",
              " 'Based on': ['Snow White', 'by The', 'Brothers Grimm'],\n",
              " 'Box office': '$418 million',\n",
              " 'Box office (float)': 418000000.0,\n",
              " 'Budget': '$1.49 million',\n",
              " 'Budget (float)': 1490000.0,\n",
              " 'Country': 'United States',\n",
              " 'Directed by': ['David Hand',\n",
              "  'William Cottrell',\n",
              "  'Wilfred Jackson',\n",
              "  'Larry Morey',\n",
              "  'Perce Pearce',\n",
              "  'Ben Sharpsteen'],\n",
              " 'Distributed by': 'RKO Radio Pictures',\n",
              " 'Genre': 'Animation, Adventure, Family',\n",
              " 'Imdb Rating': '7.6',\n",
              " 'Language': 'English',\n",
              " 'Metascore': '95',\n",
              " 'Movie Plot': 'Exiled into the dangerous forest by her wicked stepmother, a princess is rescued by seven dwarf miners who make her part of their household.',\n",
              " 'Music by': ['Frank Churchill', 'Paul Smith', 'Leigh Harline'],\n",
              " 'Produced by': 'Walt Disney',\n",
              " 'Production company': 'Walt Disney Productions',\n",
              " 'Release date': ['December 21, 1937 ( Carthay Circle Theatre )'],\n",
              " 'Release date (Standard)': 'December 21, 1937',\n",
              " 'Rotten Tomatoes Score': None,\n",
              " 'Running time': '83 minutes',\n",
              " 'Running time (int)': 83,\n",
              " 'Starring': ['Adriana Caselotti',\n",
              "  'Lucille La Verne',\n",
              "  'Harry Stockwell',\n",
              "  'Roy Atwell',\n",
              "  'Pinto Colvig',\n",
              "  'Otis Harlan',\n",
              "  'Scotty Mattraw',\n",
              "  'Billy Gilbert',\n",
              "  'Eddie Collins',\n",
              "  'Moroni Olsen',\n",
              "  'Stuart Buchanan'],\n",
              " 'Title': 'Snow White and the Seven Dwarfs',\n",
              " 'Written by': ['Ted Sears',\n",
              "  'Richard Creedon',\n",
              "  'Otto Englander',\n",
              "  'Dick Rickard',\n",
              "  'Earl Hurd',\n",
              "  'Merrill De Maris',\n",
              "  'Dorothy Ann Blank',\n",
              "  'Webb Smith']}"
            ]
          },
          "metadata": {},
          "execution_count": 34
        }
      ],
      "source": [
        "# Checking that the string is changed in copy\n",
        "\n",
        "master_data_copy[-2]"
      ]
    },
    {
      "cell_type": "code",
      "execution_count": null,
      "id": "b52f79f9",
      "metadata": {
        "id": "b52f79f9"
      },
      "outputs": [],
      "source": [
        "# Now saving as JSON\n",
        "# Maybe we need to go above and make a call at the saveas_json() function again\n",
        "\n",
        "saveas_json('cleaned_and_added_data_from_omdb.json', master_data_copy)"
      ]
    },
    {
      "cell_type": "markdown",
      "id": "65f42f8c",
      "metadata": {
        "id": "65f42f8c"
      },
      "source": [
        "## Saving as CSV"
      ]
    },
    {
      "cell_type": "markdown",
      "id": "6e27c878",
      "metadata": {
        "id": "6e27c878"
      },
      "source": [
        "#### We will use pandas to save as csv"
      ]
    },
    {
      "cell_type": "code",
      "execution_count": null,
      "id": "0d93f8a8",
      "metadata": {
        "id": "0d93f8a8"
      },
      "outputs": [],
      "source": [
        "import pandas as pd\n",
        "\n",
        "df = pd.DataFrame(master_data)       # We can pass list of dict as arguement directly to make a df object"
      ]
    },
    {
      "cell_type": "code",
      "execution_count": null,
      "id": "2dba6ba9",
      "metadata": {
        "colab": {
          "base_uri": "https://localhost:8080/",
          "height": 791
        },
        "id": "2dba6ba9",
        "outputId": "9973961f-8275-42c8-b217-62a31fba5328"
      },
      "outputs": [
        {
          "output_type": "execute_result",
          "data": {
            "text/html": [
              "\n",
              "  <div id=\"df-4cbe6a8d-1daf-4b19-9657-2b5154d8851b\">\n",
              "    <div class=\"colab-df-container\">\n",
              "      <div>\n",
              "<style scoped>\n",
              "    .dataframe tbody tr th:only-of-type {\n",
              "        vertical-align: middle;\n",
              "    }\n",
              "\n",
              "    .dataframe tbody tr th {\n",
              "        vertical-align: top;\n",
              "    }\n",
              "\n",
              "    .dataframe thead th {\n",
              "        text-align: right;\n",
              "    }\n",
              "</style>\n",
              "<table border=\"1\" class=\"dataframe\">\n",
              "  <thead>\n",
              "    <tr style=\"text-align: right;\">\n",
              "      <th></th>\n",
              "      <th>Title</th>\n",
              "      <th>Production company</th>\n",
              "      <th>Distributed by</th>\n",
              "      <th>Release date</th>\n",
              "      <th>Running time</th>\n",
              "      <th>Country</th>\n",
              "      <th>Language</th>\n",
              "      <th>Box office</th>\n",
              "      <th>Release date (Standard)</th>\n",
              "      <th>Running time (int)</th>\n",
              "      <th>Budget (float)</th>\n",
              "      <th>Box office (float)</th>\n",
              "      <th>Genre</th>\n",
              "      <th>Movie Plot</th>\n",
              "      <th>Awards</th>\n",
              "      <th>Imdb Rating</th>\n",
              "      <th>Metascore</th>\n",
              "      <th>Rotten Tomatoes Score</th>\n",
              "      <th>Directed by</th>\n",
              "      <th>Written by</th>\n",
              "      <th>Based on</th>\n",
              "      <th>Produced by</th>\n",
              "      <th>Starring</th>\n",
              "      <th>Music by</th>\n",
              "      <th>Budget</th>\n",
              "      <th>Story by</th>\n",
              "      <th>Narrated by</th>\n",
              "      <th>Cinematography</th>\n",
              "      <th>Edited by</th>\n",
              "      <th>Languages</th>\n",
              "      <th>Screenplay by</th>\n",
              "      <th>Countries</th>\n",
              "      <th>Production companies</th>\n",
              "      <th>Color process</th>\n",
              "      <th>Layouts by</th>\n",
              "      <th>Created by</th>\n",
              "      <th>Original work</th>\n",
              "      <th>Owner</th>\n",
              "    </tr>\n",
              "  </thead>\n",
              "  <tbody>\n",
              "    <tr>\n",
              "      <th>0</th>\n",
              "      <td>Academy Award Review of</td>\n",
              "      <td>Walt Disney Productions</td>\n",
              "      <td>RKO Radio Pictures</td>\n",
              "      <td>[May 19, 1937]</td>\n",
              "      <td>41 minutes (74 minutes 1966 release)</td>\n",
              "      <td>United States</td>\n",
              "      <td>English</td>\n",
              "      <td>$45.472</td>\n",
              "      <td>1937-05-19</td>\n",
              "      <td>41.0</td>\n",
              "      <td>None</td>\n",
              "      <td>45472</td>\n",
              "      <td>Animation, Short, Comedy</td>\n",
              "      <td>A compilation of five Oscar-winning Disney sho...</td>\n",
              "      <td>N/A</td>\n",
              "      <td>7.1</td>\n",
              "      <td>N/A</td>\n",
              "      <td>None</td>\n",
              "      <td>NaN</td>\n",
              "      <td>NaN</td>\n",
              "      <td>NaN</td>\n",
              "      <td>NaN</td>\n",
              "      <td>NaN</td>\n",
              "      <td>NaN</td>\n",
              "      <td>NaN</td>\n",
              "      <td>NaN</td>\n",
              "      <td>NaN</td>\n",
              "      <td>NaN</td>\n",
              "      <td>NaN</td>\n",
              "      <td>NaN</td>\n",
              "      <td>NaN</td>\n",
              "      <td>NaN</td>\n",
              "      <td>NaN</td>\n",
              "      <td>NaN</td>\n",
              "      <td>NaN</td>\n",
              "      <td>NaN</td>\n",
              "      <td>NaN</td>\n",
              "      <td>NaN</td>\n",
              "    </tr>\n",
              "    <tr>\n",
              "      <th>1</th>\n",
              "      <td>Snow White and the Seven Dwarfs</td>\n",
              "      <td>Walt Disney Productions</td>\n",
              "      <td>RKO Radio Pictures</td>\n",
              "      <td>[December 21, 1937 ( Carthay Circle Theatre )]</td>\n",
              "      <td>83 minutes</td>\n",
              "      <td>United States</td>\n",
              "      <td>English</td>\n",
              "      <td>$418 million</td>\n",
              "      <td>1937-12-21</td>\n",
              "      <td>83.0</td>\n",
              "      <td>1.49e+06</td>\n",
              "      <td>4.18e+08</td>\n",
              "      <td>Animation, Adventure, Family</td>\n",
              "      <td>Exiled into the dangerous forest by her wicked...</td>\n",
              "      <td>Won 1 Oscar. 11 wins &amp; 6 nominations total</td>\n",
              "      <td>7.6</td>\n",
              "      <td>95</td>\n",
              "      <td>None</td>\n",
              "      <td>[David Hand, William Cottrell, Wilfred Jackson...</td>\n",
              "      <td>[Ted Sears, Richard Creedon, Otto Englander, D...</td>\n",
              "      <td>[Snow White, by The, Brothers Grimm]</td>\n",
              "      <td>Walt Disney</td>\n",
              "      <td>[Adriana Caselotti, Lucille La Verne, Harry St...</td>\n",
              "      <td>[Frank Churchill, Paul Smith, Leigh Harline]</td>\n",
              "      <td>$1.49 million</td>\n",
              "      <td>NaN</td>\n",
              "      <td>NaN</td>\n",
              "      <td>NaN</td>\n",
              "      <td>NaN</td>\n",
              "      <td>NaN</td>\n",
              "      <td>NaN</td>\n",
              "      <td>NaN</td>\n",
              "      <td>NaN</td>\n",
              "      <td>NaN</td>\n",
              "      <td>NaN</td>\n",
              "      <td>NaN</td>\n",
              "      <td>NaN</td>\n",
              "      <td>NaN</td>\n",
              "    </tr>\n",
              "    <tr>\n",
              "      <th>2</th>\n",
              "      <td>Pinocchio</td>\n",
              "      <td>Walt Disney Productions</td>\n",
              "      <td>RKO Radio Pictures</td>\n",
              "      <td>[February 7, 1940 ( Center Theatre ), February...</td>\n",
              "      <td>88 minutes</td>\n",
              "      <td>United States</td>\n",
              "      <td>English</td>\n",
              "      <td>$164 million</td>\n",
              "      <td>1940-02-07</td>\n",
              "      <td>88.0</td>\n",
              "      <td>2.6e+06</td>\n",
              "      <td>1.64e+08</td>\n",
              "      <td>Animation, Adventure, Comedy</td>\n",
              "      <td>A living puppet, with the help of a cricket as...</td>\n",
              "      <td>Won 2 Oscars. 7 wins total</td>\n",
              "      <td>7.4</td>\n",
              "      <td>99</td>\n",
              "      <td>100%</td>\n",
              "      <td>[Ben Sharpsteen, Hamilton Luske, Bill Roberts,...</td>\n",
              "      <td>NaN</td>\n",
              "      <td>[The Adventures of Pinocchio, by, Carlo Collodi]</td>\n",
              "      <td>Walt Disney</td>\n",
              "      <td>[Cliff Edwards, Dickie Jones, Christian Rub, W...</td>\n",
              "      <td>[Leigh Harline, Paul J. Smith]</td>\n",
              "      <td>$2.6 million</td>\n",
              "      <td>[Ted Sears, Otto Englander, Webb Smith, Willia...</td>\n",
              "      <td>NaN</td>\n",
              "      <td>NaN</td>\n",
              "      <td>NaN</td>\n",
              "      <td>NaN</td>\n",
              "      <td>NaN</td>\n",
              "      <td>NaN</td>\n",
              "      <td>NaN</td>\n",
              "      <td>NaN</td>\n",
              "      <td>NaN</td>\n",
              "      <td>NaN</td>\n",
              "      <td>NaN</td>\n",
              "      <td>NaN</td>\n",
              "    </tr>\n",
              "    <tr>\n",
              "      <th>3</th>\n",
              "      <td>Fantasia</td>\n",
              "      <td>Walt Disney Productions</td>\n",
              "      <td>RKO Radio Pictures</td>\n",
              "      <td>[November 13, 1940]</td>\n",
              "      <td>126 minutes</td>\n",
              "      <td>United States</td>\n",
              "      <td>English</td>\n",
              "      <td>$76.4–$83.3 million (United States and Canada)</td>\n",
              "      <td>1940-11-13</td>\n",
              "      <td>126.0</td>\n",
              "      <td>2.28e+06</td>\n",
              "      <td>7.64e+07</td>\n",
              "      <td>Animation, Family, Fantasy</td>\n",
              "      <td>A collection of animated interpretations of gr...</td>\n",
              "      <td>Won 2 Oscars. 8 wins &amp; 1 nomination total</td>\n",
              "      <td>7.7</td>\n",
              "      <td>96</td>\n",
              "      <td>95%</td>\n",
              "      <td>[Samuel Armstrong, James Algar, Bill Roberts, ...</td>\n",
              "      <td>NaN</td>\n",
              "      <td>NaN</td>\n",
              "      <td>[Walt Disney, Ben Sharpsteen]</td>\n",
              "      <td>[Leopold Stokowski, Deems Taylor]</td>\n",
              "      <td>See program</td>\n",
              "      <td>$2.28 million</td>\n",
              "      <td>[Joe Grant, Dick Huemer]</td>\n",
              "      <td>Deems Taylor</td>\n",
              "      <td>James Wong Howe</td>\n",
              "      <td>NaN</td>\n",
              "      <td>NaN</td>\n",
              "      <td>NaN</td>\n",
              "      <td>NaN</td>\n",
              "      <td>NaN</td>\n",
              "      <td>NaN</td>\n",
              "      <td>NaN</td>\n",
              "      <td>NaN</td>\n",
              "      <td>NaN</td>\n",
              "      <td>NaN</td>\n",
              "    </tr>\n",
              "    <tr>\n",
              "      <th>4</th>\n",
              "      <td>The Reluctant Dragon</td>\n",
              "      <td>Walt Disney Productions</td>\n",
              "      <td>RKO Radio Pictures</td>\n",
              "      <td>[June 27, 1941]</td>\n",
              "      <td>74 minutes</td>\n",
              "      <td>United States</td>\n",
              "      <td>English</td>\n",
              "      <td>$960,000 (worldwide rentals)</td>\n",
              "      <td>1941-06-27</td>\n",
              "      <td>74.0</td>\n",
              "      <td>600000</td>\n",
              "      <td>960000</td>\n",
              "      <td>Animation, Comedy, Family</td>\n",
              "      <td>Humorist Robert Benchley learns about the anim...</td>\n",
              "      <td>N/A</td>\n",
              "      <td>6.8</td>\n",
              "      <td>N/A</td>\n",
              "      <td>100%</td>\n",
              "      <td>[Alfred Werker, (live action), Hamilton Luske,...</td>\n",
              "      <td>[Live-action:, Ted Sears, Al Perkins, Larry Cl...</td>\n",
              "      <td>NaN</td>\n",
              "      <td>Walt Disney</td>\n",
              "      <td>[Robert Benchley, Frances Gifford, Buddy Peppe...</td>\n",
              "      <td>[Frank Churchill, Larry Morey]</td>\n",
              "      <td>$600,000</td>\n",
              "      <td>NaN</td>\n",
              "      <td>NaN</td>\n",
              "      <td>Bert Glennon</td>\n",
              "      <td>Paul Weatherwax</td>\n",
              "      <td>NaN</td>\n",
              "      <td>NaN</td>\n",
              "      <td>NaN</td>\n",
              "      <td>NaN</td>\n",
              "      <td>NaN</td>\n",
              "      <td>NaN</td>\n",
              "      <td>NaN</td>\n",
              "      <td>NaN</td>\n",
              "      <td>NaN</td>\n",
              "    </tr>\n",
              "  </tbody>\n",
              "</table>\n",
              "</div>\n",
              "      <button class=\"colab-df-convert\" onclick=\"convertToInteractive('df-4cbe6a8d-1daf-4b19-9657-2b5154d8851b')\"\n",
              "              title=\"Convert this dataframe to an interactive table.\"\n",
              "              style=\"display:none;\">\n",
              "        \n",
              "  <svg xmlns=\"http://www.w3.org/2000/svg\" height=\"24px\"viewBox=\"0 0 24 24\"\n",
              "       width=\"24px\">\n",
              "    <path d=\"M0 0h24v24H0V0z\" fill=\"none\"/>\n",
              "    <path d=\"M18.56 5.44l.94 2.06.94-2.06 2.06-.94-2.06-.94-.94-2.06-.94 2.06-2.06.94zm-11 1L8.5 8.5l.94-2.06 2.06-.94-2.06-.94L8.5 2.5l-.94 2.06-2.06.94zm10 10l.94 2.06.94-2.06 2.06-.94-2.06-.94-.94-2.06-.94 2.06-2.06.94z\"/><path d=\"M17.41 7.96l-1.37-1.37c-.4-.4-.92-.59-1.43-.59-.52 0-1.04.2-1.43.59L10.3 9.45l-7.72 7.72c-.78.78-.78 2.05 0 2.83L4 21.41c.39.39.9.59 1.41.59.51 0 1.02-.2 1.41-.59l7.78-7.78 2.81-2.81c.8-.78.8-2.07 0-2.86zM5.41 20L4 18.59l7.72-7.72 1.47 1.35L5.41 20z\"/>\n",
              "  </svg>\n",
              "      </button>\n",
              "      \n",
              "  <style>\n",
              "    .colab-df-container {\n",
              "      display:flex;\n",
              "      flex-wrap:wrap;\n",
              "      gap: 12px;\n",
              "    }\n",
              "\n",
              "    .colab-df-convert {\n",
              "      background-color: #E8F0FE;\n",
              "      border: none;\n",
              "      border-radius: 50%;\n",
              "      cursor: pointer;\n",
              "      display: none;\n",
              "      fill: #1967D2;\n",
              "      height: 32px;\n",
              "      padding: 0 0 0 0;\n",
              "      width: 32px;\n",
              "    }\n",
              "\n",
              "    .colab-df-convert:hover {\n",
              "      background-color: #E2EBFA;\n",
              "      box-shadow: 0px 1px 2px rgba(60, 64, 67, 0.3), 0px 1px 3px 1px rgba(60, 64, 67, 0.15);\n",
              "      fill: #174EA6;\n",
              "    }\n",
              "\n",
              "    [theme=dark] .colab-df-convert {\n",
              "      background-color: #3B4455;\n",
              "      fill: #D2E3FC;\n",
              "    }\n",
              "\n",
              "    [theme=dark] .colab-df-convert:hover {\n",
              "      background-color: #434B5C;\n",
              "      box-shadow: 0px 1px 3px 1px rgba(0, 0, 0, 0.15);\n",
              "      filter: drop-shadow(0px 1px 2px rgba(0, 0, 0, 0.3));\n",
              "      fill: #FFFFFF;\n",
              "    }\n",
              "  </style>\n",
              "\n",
              "      <script>\n",
              "        const buttonEl =\n",
              "          document.querySelector('#df-4cbe6a8d-1daf-4b19-9657-2b5154d8851b button.colab-df-convert');\n",
              "        buttonEl.style.display =\n",
              "          google.colab.kernel.accessAllowed ? 'block' : 'none';\n",
              "\n",
              "        async function convertToInteractive(key) {\n",
              "          const element = document.querySelector('#df-4cbe6a8d-1daf-4b19-9657-2b5154d8851b');\n",
              "          const dataTable =\n",
              "            await google.colab.kernel.invokeFunction('convertToInteractive',\n",
              "                                                     [key], {});\n",
              "          if (!dataTable) return;\n",
              "\n",
              "          const docLinkHtml = 'Like what you see? Visit the ' +\n",
              "            '<a target=\"_blank\" href=https://colab.research.google.com/notebooks/data_table.ipynb>data table notebook</a>'\n",
              "            + ' to learn more about interactive tables.';\n",
              "          element.innerHTML = '';\n",
              "          dataTable['output_type'] = 'display_data';\n",
              "          await google.colab.output.renderOutput(dataTable, element);\n",
              "          const docLink = document.createElement('div');\n",
              "          docLink.innerHTML = docLinkHtml;\n",
              "          element.appendChild(docLink);\n",
              "        }\n",
              "      </script>\n",
              "    </div>\n",
              "  </div>\n",
              "  "
            ],
            "text/plain": [
              "                             Title       Production company  ... Original work Owner\n",
              "0         Academy Award Review of   Walt Disney Productions  ...           NaN   NaN\n",
              "1  Snow White and the Seven Dwarfs  Walt Disney Productions  ...           NaN   NaN\n",
              "2                        Pinocchio  Walt Disney Productions  ...           NaN   NaN\n",
              "3                         Fantasia  Walt Disney Productions  ...           NaN   NaN\n",
              "4             The Reluctant Dragon  Walt Disney Productions  ...           NaN   NaN\n",
              "\n",
              "[5 rows x 38 columns]"
            ]
          },
          "metadata": {},
          "execution_count": 38
        }
      ],
      "source": [
        "df.head()"
      ]
    },
    {
      "cell_type": "code",
      "execution_count": null,
      "id": "f7c5d1fb",
      "metadata": {
        "id": "f7c5d1fb"
      },
      "outputs": [],
      "source": [
        "df.to_csv('cleaned_data_final.csv')"
      ]
    },
    {
      "cell_type": "code",
      "execution_count": null,
      "id": "5df4cda5",
      "metadata": {
        "colab": {
          "base_uri": "https://localhost:8080/"
        },
        "id": "5df4cda5",
        "outputId": "1d08e95c-a19e-4cca-c311-e95be021331c"
      },
      "outputs": [
        {
          "output_type": "stream",
          "name": "stdout",
          "text": [
            "<class 'pandas.core.frame.DataFrame'>\n",
            "RangeIndex: 491 entries, 0 to 490\n",
            "Data columns (total 38 columns):\n",
            " #   Column                   Non-Null Count  Dtype  \n",
            "---  ------                   --------------  -----  \n",
            " 0   Title                    491 non-null    object \n",
            " 1   Production company       197 non-null    object \n",
            " 2   Distributed by           489 non-null    object \n",
            " 3   Release date             485 non-null    object \n",
            " 4   Running time             473 non-null    object \n",
            " 5   Country                  437 non-null    object \n",
            " 6   Language                 472 non-null    object \n",
            " 7   Box office               382 non-null    object \n",
            " 8   Release date (Standard)  485 non-null    object \n",
            " 9   Running time (int)       473 non-null    float64\n",
            " 10  Budget (float)           300 non-null    object \n",
            " 11  Box office (float)       382 non-null    object \n",
            " 12  Genre                    473 non-null    object \n",
            " 13  Movie Plot               473 non-null    object \n",
            " 14  Awards                   473 non-null    object \n",
            " 15  Imdb Rating              473 non-null    object \n",
            " 16  Metascore                473 non-null    object \n",
            " 17  Rotten Tomatoes Score    350 non-null    object \n",
            " 18  Directed by              484 non-null    object \n",
            " 19  Written by               222 non-null    object \n",
            " 20  Based on                 260 non-null    object \n",
            " 21  Produced by              481 non-null    object \n",
            " 22  Starring                 457 non-null    object \n",
            " 23  Music by                 481 non-null    object \n",
            " 24  Budget                   300 non-null    object \n",
            " 25  Story by                 157 non-null    object \n",
            " 26  Narrated by              65 non-null     object \n",
            " 27  Cinematography           369 non-null    object \n",
            " 28  Edited by                435 non-null    object \n",
            " 29  Languages                18 non-null     object \n",
            " 30  Screenplay by            233 non-null    object \n",
            " 31  Countries                49 non-null     object \n",
            " 32  Production companies     293 non-null    object \n",
            " 33  Color process            4 non-null      object \n",
            " 34  Layouts by               1 non-null      object \n",
            " 35  Created by               1 non-null      object \n",
            " 36  Original work            1 non-null      object \n",
            " 37  Owner                    1 non-null      object \n",
            "dtypes: float64(1), object(37)\n",
            "memory usage: 145.9+ KB\n"
          ]
        }
      ],
      "source": [
        "df.info()"
      ]
    },
    {
      "cell_type": "code",
      "execution_count": null,
      "id": "dea6340a",
      "metadata": {
        "colab": {
          "base_uri": "https://localhost:8080/",
          "height": 2273
        },
        "id": "dea6340a",
        "outputId": "469fe4ac-3e5e-4c87-954b-ee2f9eecd3c7"
      },
      "outputs": [
        {
          "output_type": "execute_result",
          "data": {
            "text/html": [
              "\n",
              "  <div id=\"df-caaea1f3-da72-43de-be6a-ac86e59ae3d4\">\n",
              "    <div class=\"colab-df-container\">\n",
              "      <div>\n",
              "<style scoped>\n",
              "    .dataframe tbody tr th:only-of-type {\n",
              "        vertical-align: middle;\n",
              "    }\n",
              "\n",
              "    .dataframe tbody tr th {\n",
              "        vertical-align: top;\n",
              "    }\n",
              "\n",
              "    .dataframe thead th {\n",
              "        text-align: right;\n",
              "    }\n",
              "</style>\n",
              "<table border=\"1\" class=\"dataframe\">\n",
              "  <thead>\n",
              "    <tr style=\"text-align: right;\">\n",
              "      <th></th>\n",
              "      <th>Title</th>\n",
              "      <th>Production company</th>\n",
              "      <th>Distributed by</th>\n",
              "      <th>Release date</th>\n",
              "      <th>Running time</th>\n",
              "      <th>Country</th>\n",
              "      <th>Language</th>\n",
              "      <th>Box office</th>\n",
              "      <th>Release date (Standard)</th>\n",
              "      <th>Running time (int)</th>\n",
              "      <th>Budget (float)</th>\n",
              "      <th>Box office (float)</th>\n",
              "      <th>Genre</th>\n",
              "      <th>Movie Plot</th>\n",
              "      <th>Awards</th>\n",
              "      <th>Imdb Rating</th>\n",
              "      <th>Metascore</th>\n",
              "      <th>Rotten Tomatoes Score</th>\n",
              "      <th>Directed by</th>\n",
              "      <th>Written by</th>\n",
              "      <th>Based on</th>\n",
              "      <th>Produced by</th>\n",
              "      <th>Starring</th>\n",
              "      <th>Music by</th>\n",
              "      <th>Budget</th>\n",
              "      <th>Story by</th>\n",
              "      <th>Narrated by</th>\n",
              "      <th>Cinematography</th>\n",
              "      <th>Edited by</th>\n",
              "      <th>Languages</th>\n",
              "      <th>Screenplay by</th>\n",
              "      <th>Countries</th>\n",
              "      <th>Production companies</th>\n",
              "      <th>Color process</th>\n",
              "      <th>Layouts by</th>\n",
              "      <th>Created by</th>\n",
              "      <th>Original work</th>\n",
              "      <th>Owner</th>\n",
              "    </tr>\n",
              "  </thead>\n",
              "  <tbody>\n",
              "    <tr>\n",
              "      <th>322</th>\n",
              "      <td>Pirates of the Caribbean:  At World's End</td>\n",
              "      <td>NaN</td>\n",
              "      <td>Buena Vista Pictures</td>\n",
              "      <td>[May 19, 2007 ( Disneyland Resort ), May 25, 2...</td>\n",
              "      <td>167 minutes</td>\n",
              "      <td>United States</td>\n",
              "      <td>English</td>\n",
              "      <td>$960.9 million</td>\n",
              "      <td>2007-05-19</td>\n",
              "      <td>167.0</td>\n",
              "      <td>3e+08</td>\n",
              "      <td>9.609e+08</td>\n",
              "      <td>Action, Adventure, Fantasy</td>\n",
              "      <td>Captain Barbossa, Will Turner and Elizabeth Sw...</td>\n",
              "      <td>Nominated for 2 Oscars. 22 wins &amp; 51 nominatio...</td>\n",
              "      <td>7.1</td>\n",
              "      <td>50</td>\n",
              "      <td>44%</td>\n",
              "      <td>Gore Verbinski</td>\n",
              "      <td>[Ted Elliott, Terry Rossio]</td>\n",
              "      <td>[Characters by Ted Elliott Terry Rossio Stuart...</td>\n",
              "      <td>Jerry Bruckheimer</td>\n",
              "      <td>[Johnny Depp, Orlando Bloom, Keira Knightley, ...</td>\n",
              "      <td>Hans Zimmer</td>\n",
              "      <td>$300 million</td>\n",
              "      <td>NaN</td>\n",
              "      <td>NaN</td>\n",
              "      <td>Dariusz Wolski</td>\n",
              "      <td>[Craig Wood, Stephen Rivkin]</td>\n",
              "      <td>NaN</td>\n",
              "      <td>NaN</td>\n",
              "      <td>NaN</td>\n",
              "      <td>[Walt Disney Pictures, Jerry Bruckheimer Films]</td>\n",
              "      <td>NaN</td>\n",
              "      <td>NaN</td>\n",
              "      <td>NaN</td>\n",
              "      <td>NaN</td>\n",
              "      <td>NaN</td>\n",
              "    </tr>\n",
              "    <tr>\n",
              "      <th>85</th>\n",
              "      <td>The Happiest Millionaire</td>\n",
              "      <td>Walt Disney Productions</td>\n",
              "      <td>Buena Vista Distribution</td>\n",
              "      <td>[June 23, 1967, November 30, 1967]</td>\n",
              "      <td>[164 minutes, (, Los Angeles, premiere), 144 m...</td>\n",
              "      <td>United States</td>\n",
              "      <td>English</td>\n",
              "      <td>$5 million (U.S./Canada rentals)</td>\n",
              "      <td>1967-06-23</td>\n",
              "      <td>164.0</td>\n",
              "      <td>5e+06</td>\n",
              "      <td>5e+06</td>\n",
              "      <td>Comedy, Family, Musical</td>\n",
              "      <td>Clever yet hapless new butler John Lawless man...</td>\n",
              "      <td>Nominated for 1 Oscar. 2 nominations total</td>\n",
              "      <td>6.8</td>\n",
              "      <td>N/A</td>\n",
              "      <td>50%</td>\n",
              "      <td>Norman Tokar</td>\n",
              "      <td>NaN</td>\n",
              "      <td>[My Philadelphia Father, by Cordelia Drexel Bi...</td>\n",
              "      <td>[Walt Disney, Bill Anderson]</td>\n",
              "      <td>[Fred MacMurray, Tommy Steele, Greer Garson, G...</td>\n",
              "      <td>Jack Elliott</td>\n",
              "      <td>$5 million</td>\n",
              "      <td>A. J. Carothers</td>\n",
              "      <td>NaN</td>\n",
              "      <td>Edward Colman</td>\n",
              "      <td>Cotton Warburton</td>\n",
              "      <td>NaN</td>\n",
              "      <td>A. J. Carothers</td>\n",
              "      <td>NaN</td>\n",
              "      <td>NaN</td>\n",
              "      <td>NaN</td>\n",
              "      <td>NaN</td>\n",
              "      <td>NaN</td>\n",
              "      <td>NaN</td>\n",
              "      <td>NaN</td>\n",
              "    </tr>\n",
              "    <tr>\n",
              "      <th>428</th>\n",
              "      <td>Jagga Jasoos</td>\n",
              "      <td>NaN</td>\n",
              "      <td>UTV Motion Pictures</td>\n",
              "      <td>[14 July 2017]</td>\n",
              "      <td>162 minutes</td>\n",
              "      <td>India</td>\n",
              "      <td>Hindi</td>\n",
              "      <td>83 crore</td>\n",
              "      <td>2017-07-14</td>\n",
              "      <td>162.0</td>\n",
              "      <td>-</td>\n",
              "      <td>83</td>\n",
              "      <td>Action, Adventure, Comedy</td>\n",
              "      <td>Join Jagga, a gifted teenage detective, who al...</td>\n",
              "      <td>11 wins &amp; 17 nominations</td>\n",
              "      <td>6.5</td>\n",
              "      <td>N/A</td>\n",
              "      <td>83%</td>\n",
              "      <td>Anurag Basu</td>\n",
              "      <td>[Screenplay:, Anurag Basu, Dialogues in Rhyme:...</td>\n",
              "      <td>NaN</td>\n",
              "      <td>[Siddharth Roy Kapur, Anurag Basu, Ranbir Kapoor]</td>\n",
              "      <td>[Ranbir Kapoor, Katrina Kaif, Saswata Chatterj...</td>\n",
              "      <td>[Pritam, Anirudh Ravichander]</td>\n",
              "      <td>[131 crore]</td>\n",
              "      <td>Anurag Basu</td>\n",
              "      <td>NaN</td>\n",
              "      <td>Ravi Varman</td>\n",
              "      <td>Ajay Sharma</td>\n",
              "      <td>NaN</td>\n",
              "      <td>NaN</td>\n",
              "      <td>NaN</td>\n",
              "      <td>[Walt Disney Pictures India, Picture Shuru Ent...</td>\n",
              "      <td>NaN</td>\n",
              "      <td>NaN</td>\n",
              "      <td>NaN</td>\n",
              "      <td>NaN</td>\n",
              "      <td>NaN</td>\n",
              "    </tr>\n",
              "    <tr>\n",
              "      <th>422</th>\n",
              "      <td>Dangal</td>\n",
              "      <td>NaN</td>\n",
              "      <td>UTV Motion Pictures</td>\n",
              "      <td>[21 December 2016 (United States), 23 December...</td>\n",
              "      <td>161 minutes</td>\n",
              "      <td>India</td>\n",
              "      <td>Hindi</td>\n",
              "      <td>(US$270 million)</td>\n",
              "      <td>2016-12-21</td>\n",
              "      <td>161.0</td>\n",
              "      <td>-</td>\n",
              "      <td>-</td>\n",
              "      <td>Action, Biography, Drama</td>\n",
              "      <td>Former wrestler Mahavir Singh Phogat and his t...</td>\n",
              "      <td>28 wins &amp; 6 nominations</td>\n",
              "      <td>8.4</td>\n",
              "      <td>N/A</td>\n",
              "      <td>88%</td>\n",
              "      <td>Nitesh Tiwari</td>\n",
              "      <td>[Saeed Aadil, Piyush Gupta, Shreyas Jain, Nikh...</td>\n",
              "      <td>Lives of Mahavir Singh Phogat and Phogat sisters</td>\n",
              "      <td>[Aamir Khan, Kiran Rao, Siddharth Roy Kapur]</td>\n",
              "      <td>[Aamir Khan, Sakshi Tanwar, Fatima Sana Shaikh...</td>\n",
              "      <td>Pritam</td>\n",
              "      <td>(US$9.3 million)</td>\n",
              "      <td>[Curation:, Nitesh Tiwari, Concept:, Divya V. ...</td>\n",
              "      <td>Aparshakti Khurana</td>\n",
              "      <td>Setu</td>\n",
              "      <td>Ballu Saluja</td>\n",
              "      <td>NaN</td>\n",
              "      <td>NaN</td>\n",
              "      <td>NaN</td>\n",
              "      <td>[Aamir Khan Productions, Walt Disney Pictures ...</td>\n",
              "      <td>NaN</td>\n",
              "      <td>NaN</td>\n",
              "      <td>NaN</td>\n",
              "      <td>NaN</td>\n",
              "      <td>NaN</td>\n",
              "    </tr>\n",
              "    <tr>\n",
              "      <th>453</th>\n",
              "      <td>Hamilton</td>\n",
              "      <td>NaN</td>\n",
              "      <td>Walt Disney Studios Motion Pictures</td>\n",
              "      <td>[July 3, 2020]</td>\n",
              "      <td>160 minutes</td>\n",
              "      <td>United States</td>\n",
              "      <td>English</td>\n",
              "      <td>NaN</td>\n",
              "      <td>2020-07-03</td>\n",
              "      <td>160.0</td>\n",
              "      <td>1.25e+07</td>\n",
              "      <td>None</td>\n",
              "      <td>Biography, Drama, History</td>\n",
              "      <td>The real life of one of America's foremost fou...</td>\n",
              "      <td>Won 1 Primetime Emmy. 17 wins &amp; 42 nominations...</td>\n",
              "      <td>8.4</td>\n",
              "      <td>90</td>\n",
              "      <td>97%</td>\n",
              "      <td>Thomas Kail</td>\n",
              "      <td>Lin-Manuel Miranda</td>\n",
              "      <td>[Alexander Hamilton, by, Ron Chernow]</td>\n",
              "      <td>[Thomas Kail, Lin-Manuel Miranda, Jeffrey Seller]</td>\n",
              "      <td>[Daveed Diggs, Renée Elise Goldsberry, Jonatha...</td>\n",
              "      <td>Lin-Manuel Miranda</td>\n",
              "      <td>$12.5 million (stage production)</td>\n",
              "      <td>NaN</td>\n",
              "      <td>NaN</td>\n",
              "      <td>Declan Quinn</td>\n",
              "      <td>Jonah Moran</td>\n",
              "      <td>NaN</td>\n",
              "      <td>NaN</td>\n",
              "      <td>NaN</td>\n",
              "      <td>[Walt Disney Pictures, 5000 Broadway Productio...</td>\n",
              "      <td>NaN</td>\n",
              "      <td>NaN</td>\n",
              "      <td>NaN</td>\n",
              "      <td>NaN</td>\n",
              "      <td>NaN</td>\n",
              "    </tr>\n",
              "    <tr>\n",
              "      <th>411</th>\n",
              "      <td>ABCD 2</td>\n",
              "      <td>Walt Disney Pictures</td>\n",
              "      <td>UTV Motion Pictures</td>\n",
              "      <td>[19 June 2015]</td>\n",
              "      <td>154 minutes</td>\n",
              "      <td>India</td>\n",
              "      <td>Hindi</td>\n",
              "      <td>est.</td>\n",
              "      <td>2015-06-19</td>\n",
              "      <td>154.0</td>\n",
              "      <td>-</td>\n",
              "      <td>-</td>\n",
              "      <td>Music</td>\n",
              "      <td>N/A</td>\n",
              "      <td>N/A</td>\n",
              "      <td>N/A</td>\n",
              "      <td>N/A</td>\n",
              "      <td>None</td>\n",
              "      <td>Remo D'Souza</td>\n",
              "      <td>[Dialogues and Lyrics:, Mayur Puri, Screenplay...</td>\n",
              "      <td>[Suresh &amp; Vernon, of the, Fictitious Crew]</td>\n",
              "      <td>Siddharth Roy Kapur</td>\n",
              "      <td>[Prabhu Deva, Varun Dhawan, Shraddha Kapoor, L...</td>\n",
              "      <td>Sachin–Jigar</td>\n",
              "      <td></td>\n",
              "      <td>Remo D'Souza</td>\n",
              "      <td>NaN</td>\n",
              "      <td>Vijay Kumar Arora</td>\n",
              "      <td>Manan Sagar</td>\n",
              "      <td>NaN</td>\n",
              "      <td>NaN</td>\n",
              "      <td>NaN</td>\n",
              "      <td>NaN</td>\n",
              "      <td>NaN</td>\n",
              "      <td>NaN</td>\n",
              "      <td>NaN</td>\n",
              "      <td>NaN</td>\n",
              "      <td>NaN</td>\n",
              "    </tr>\n",
              "    <tr>\n",
              "      <th>314</th>\n",
              "      <td>Pirates of the Caribbean:  Dead Man's Chest</td>\n",
              "      <td>NaN</td>\n",
              "      <td>Buena Vista Pictures</td>\n",
              "      <td>[June 24, 2006 ( Disneyland Resort ), July 7, ...</td>\n",
              "      <td>150 minutes</td>\n",
              "      <td>United States</td>\n",
              "      <td>English</td>\n",
              "      <td>$1.066 billion</td>\n",
              "      <td>2006-06-24</td>\n",
              "      <td>150.0</td>\n",
              "      <td>2.25e+08</td>\n",
              "      <td>1066</td>\n",
              "      <td>Action, Adventure, Fantasy</td>\n",
              "      <td>Jack Sparrow races to recover the heart of Dav...</td>\n",
              "      <td>Won 1 Oscar. 45 wins &amp; 54 nominations total</td>\n",
              "      <td>7.3</td>\n",
              "      <td>53</td>\n",
              "      <td>53%</td>\n",
              "      <td>Gore Verbinski</td>\n",
              "      <td>[Ted Elliott, Terry Rossio]</td>\n",
              "      <td>[Characters by Ted Elliott Terry Rossio Stuart...</td>\n",
              "      <td>Jerry Bruckheimer</td>\n",
              "      <td>[Johnny Depp, Orlando Bloom, Keira Knightley, ...</td>\n",
              "      <td>Hans Zimmer</td>\n",
              "      <td>$225 million</td>\n",
              "      <td>NaN</td>\n",
              "      <td>NaN</td>\n",
              "      <td>Dariusz Wolski</td>\n",
              "      <td>[Craig Wood, Stephen Rivkin]</td>\n",
              "      <td>NaN</td>\n",
              "      <td>NaN</td>\n",
              "      <td>NaN</td>\n",
              "      <td>[Walt Disney Pictures, Jerry Bruckheimer Films]</td>\n",
              "      <td>NaN</td>\n",
              "      <td>NaN</td>\n",
              "      <td>NaN</td>\n",
              "      <td>NaN</td>\n",
              "      <td>NaN</td>\n",
              "    </tr>\n",
              "    <tr>\n",
              "      <th>331</th>\n",
              "      <td>The Chronicles of Narnia: Prince Caspian</td>\n",
              "      <td>NaN</td>\n",
              "      <td>Walt Disney Studios Motion Pictures</td>\n",
              "      <td>[May 7, 2008 ( New York City ), May 16, 2008 (...</td>\n",
              "      <td>150 minutes</td>\n",
              "      <td>NaN</td>\n",
              "      <td>English</td>\n",
              "      <td>$419.7 million</td>\n",
              "      <td>2008-05-07</td>\n",
              "      <td>150.0</td>\n",
              "      <td>2.25e+08</td>\n",
              "      <td>4.197e+08</td>\n",
              "      <td>Action, Adventure, Family</td>\n",
              "      <td>The Pevensie siblings return to Narnia, where ...</td>\n",
              "      <td>2 wins &amp; 21 nominations</td>\n",
              "      <td>6.5</td>\n",
              "      <td>62</td>\n",
              "      <td>66%</td>\n",
              "      <td>Andrew Adamson</td>\n",
              "      <td>NaN</td>\n",
              "      <td>[Prince Caspian, by, C. S. Lewis]</td>\n",
              "      <td>[Mark Johnson, Andrew Adamson, Philip Steuer]</td>\n",
              "      <td>[Georgie Henley, Skandar Keynes, William Mosel...</td>\n",
              "      <td>Harry Gregson-Williams</td>\n",
              "      <td>$225 million</td>\n",
              "      <td>NaN</td>\n",
              "      <td>NaN</td>\n",
              "      <td>Karl Walter Lindenlaub</td>\n",
              "      <td>Sim Evan-Jones</td>\n",
              "      <td>NaN</td>\n",
              "      <td>[Andrew Adamson, Christopher Markus Stephen Mc...</td>\n",
              "      <td>[United States, United Kingdom]</td>\n",
              "      <td>[Walt Disney Pictures, Walden Media]</td>\n",
              "      <td>NaN</td>\n",
              "      <td>NaN</td>\n",
              "      <td>NaN</td>\n",
              "      <td>NaN</td>\n",
              "      <td>NaN</td>\n",
              "    </tr>\n",
              "    <tr>\n",
              "      <th>390</th>\n",
              "      <td>The Lone Ranger</td>\n",
              "      <td>NaN</td>\n",
              "      <td>[Walt Disney Studios, Motion Pictures]</td>\n",
              "      <td>[June 22, 2013 ( Hyperion Theatre ), July 3, 2...</td>\n",
              "      <td>149 minutes</td>\n",
              "      <td>United States</td>\n",
              "      <td>English</td>\n",
              "      <td>$260.5 million</td>\n",
              "      <td>2013-06-22</td>\n",
              "      <td>149.0</td>\n",
              "      <td>-</td>\n",
              "      <td>2.605e+08</td>\n",
              "      <td>Action, Adventure, Western</td>\n",
              "      <td>Native American warrior Tonto recounts the unt...</td>\n",
              "      <td>Nominated for 2 Oscars. 5 wins &amp; 20 nomination...</td>\n",
              "      <td>6.4</td>\n",
              "      <td>37</td>\n",
              "      <td>30%</td>\n",
              "      <td>Gore Verbinski</td>\n",
              "      <td>NaN</td>\n",
              "      <td>[Fran Striker, George W. Trendle]</td>\n",
              "      <td>[Jerry Bruckheimer, Gore Verbinski]</td>\n",
              "      <td>[Johnny Depp, Armie Hammer, Tom Wilkinson, Wil...</td>\n",
              "      <td>Hans Zimmer</td>\n",
              "      <td>$225–250 million</td>\n",
              "      <td>[Ted Elliott, Terry Rossio, Justin Haythe]</td>\n",
              "      <td>NaN</td>\n",
              "      <td>Bojan Bazelli</td>\n",
              "      <td>[James Haygood, Craig Wood]</td>\n",
              "      <td>NaN</td>\n",
              "      <td>[Justin Haythe, Ted Elliott, Terry Rossio]</td>\n",
              "      <td>NaN</td>\n",
              "      <td>[Walt Disney Pictures, Jerry Bruckheimer Films...</td>\n",
              "      <td>NaN</td>\n",
              "      <td>NaN</td>\n",
              "      <td>NaN</td>\n",
              "      <td>NaN</td>\n",
              "      <td>NaN</td>\n",
              "    </tr>\n",
              "    <tr>\n",
              "      <th>304</th>\n",
              "      <td>The Chronicles of Narnia:The Lion, the Witch a...</td>\n",
              "      <td>NaN</td>\n",
              "      <td>Buena Vista Pictures</td>\n",
              "      <td>[December 7, 2005 ( Royal Film Performance ), ...</td>\n",
              "      <td>143 minutes</td>\n",
              "      <td>NaN</td>\n",
              "      <td>English</td>\n",
              "      <td>$745 million</td>\n",
              "      <td>2005-12-07</td>\n",
              "      <td>143.0</td>\n",
              "      <td>1.8e+08</td>\n",
              "      <td>7.45e+08</td>\n",
              "      <td>Adventure, Family, Fantasy</td>\n",
              "      <td>Four kids travel through a wardrobe to the lan...</td>\n",
              "      <td>Won 1 Oscar. 18 wins &amp; 46 nominations total</td>\n",
              "      <td>6.9</td>\n",
              "      <td>75</td>\n",
              "      <td>76%</td>\n",
              "      <td>Andrew Adamson</td>\n",
              "      <td>NaN</td>\n",
              "      <td>[The Lion, the Witch and the Wardrobe, by, C. ...</td>\n",
              "      <td>[Mark Johnson, Phillip Steuer]</td>\n",
              "      <td>[William Moseley, Anna Popplewell, Skandar Key...</td>\n",
              "      <td>Harry Gregson-Williams</td>\n",
              "      <td>$180 million</td>\n",
              "      <td>NaN</td>\n",
              "      <td>NaN</td>\n",
              "      <td>Donald McAlpine</td>\n",
              "      <td>[Sim Evan-Jones, Jim May]</td>\n",
              "      <td>NaN</td>\n",
              "      <td>[Ann Peacock, Andrew Adamson, Christopher Mark...</td>\n",
              "      <td>[United States, United Kingdom]</td>\n",
              "      <td>[Walt Disney Pictures, Walden Media]</td>\n",
              "      <td>NaN</td>\n",
              "      <td>NaN</td>\n",
              "      <td>NaN</td>\n",
              "      <td>NaN</td>\n",
              "      <td>NaN</td>\n",
              "    </tr>\n",
              "  </tbody>\n",
              "</table>\n",
              "</div>\n",
              "      <button class=\"colab-df-convert\" onclick=\"convertToInteractive('df-caaea1f3-da72-43de-be6a-ac86e59ae3d4')\"\n",
              "              title=\"Convert this dataframe to an interactive table.\"\n",
              "              style=\"display:none;\">\n",
              "        \n",
              "  <svg xmlns=\"http://www.w3.org/2000/svg\" height=\"24px\"viewBox=\"0 0 24 24\"\n",
              "       width=\"24px\">\n",
              "    <path d=\"M0 0h24v24H0V0z\" fill=\"none\"/>\n",
              "    <path d=\"M18.56 5.44l.94 2.06.94-2.06 2.06-.94-2.06-.94-.94-2.06-.94 2.06-2.06.94zm-11 1L8.5 8.5l.94-2.06 2.06-.94-2.06-.94L8.5 2.5l-.94 2.06-2.06.94zm10 10l.94 2.06.94-2.06 2.06-.94-2.06-.94-.94-2.06-.94 2.06-2.06.94z\"/><path d=\"M17.41 7.96l-1.37-1.37c-.4-.4-.92-.59-1.43-.59-.52 0-1.04.2-1.43.59L10.3 9.45l-7.72 7.72c-.78.78-.78 2.05 0 2.83L4 21.41c.39.39.9.59 1.41.59.51 0 1.02-.2 1.41-.59l7.78-7.78 2.81-2.81c.8-.78.8-2.07 0-2.86zM5.41 20L4 18.59l7.72-7.72 1.47 1.35L5.41 20z\"/>\n",
              "  </svg>\n",
              "      </button>\n",
              "      \n",
              "  <style>\n",
              "    .colab-df-container {\n",
              "      display:flex;\n",
              "      flex-wrap:wrap;\n",
              "      gap: 12px;\n",
              "    }\n",
              "\n",
              "    .colab-df-convert {\n",
              "      background-color: #E8F0FE;\n",
              "      border: none;\n",
              "      border-radius: 50%;\n",
              "      cursor: pointer;\n",
              "      display: none;\n",
              "      fill: #1967D2;\n",
              "      height: 32px;\n",
              "      padding: 0 0 0 0;\n",
              "      width: 32px;\n",
              "    }\n",
              "\n",
              "    .colab-df-convert:hover {\n",
              "      background-color: #E2EBFA;\n",
              "      box-shadow: 0px 1px 2px rgba(60, 64, 67, 0.3), 0px 1px 3px 1px rgba(60, 64, 67, 0.15);\n",
              "      fill: #174EA6;\n",
              "    }\n",
              "\n",
              "    [theme=dark] .colab-df-convert {\n",
              "      background-color: #3B4455;\n",
              "      fill: #D2E3FC;\n",
              "    }\n",
              "\n",
              "    [theme=dark] .colab-df-convert:hover {\n",
              "      background-color: #434B5C;\n",
              "      box-shadow: 0px 1px 3px 1px rgba(0, 0, 0, 0.15);\n",
              "      filter: drop-shadow(0px 1px 2px rgba(0, 0, 0, 0.3));\n",
              "      fill: #FFFFFF;\n",
              "    }\n",
              "  </style>\n",
              "\n",
              "      <script>\n",
              "        const buttonEl =\n",
              "          document.querySelector('#df-caaea1f3-da72-43de-be6a-ac86e59ae3d4 button.colab-df-convert');\n",
              "        buttonEl.style.display =\n",
              "          google.colab.kernel.accessAllowed ? 'block' : 'none';\n",
              "\n",
              "        async function convertToInteractive(key) {\n",
              "          const element = document.querySelector('#df-caaea1f3-da72-43de-be6a-ac86e59ae3d4');\n",
              "          const dataTable =\n",
              "            await google.colab.kernel.invokeFunction('convertToInteractive',\n",
              "                                                     [key], {});\n",
              "          if (!dataTable) return;\n",
              "\n",
              "          const docLinkHtml = 'Like what you see? Visit the ' +\n",
              "            '<a target=\"_blank\" href=https://colab.research.google.com/notebooks/data_table.ipynb>data table notebook</a>'\n",
              "            + ' to learn more about interactive tables.';\n",
              "          element.innerHTML = '';\n",
              "          dataTable['output_type'] = 'display_data';\n",
              "          await google.colab.output.renderOutput(dataTable, element);\n",
              "          const docLink = document.createElement('div');\n",
              "          docLink.innerHTML = docLinkHtml;\n",
              "          element.appendChild(docLink);\n",
              "        }\n",
              "      </script>\n",
              "    </div>\n",
              "  </div>\n",
              "  "
            ],
            "text/plain": [
              "                                                 Title  ... Owner\n",
              "322          Pirates of the Caribbean:  At World's End  ...   NaN\n",
              "85                            The Happiest Millionaire  ...   NaN\n",
              "428                                       Jagga Jasoos  ...   NaN\n",
              "422                                             Dangal  ...   NaN\n",
              "453                                           Hamilton  ...   NaN\n",
              "411                                             ABCD 2  ...   NaN\n",
              "314        Pirates of the Caribbean:  Dead Man's Chest  ...   NaN\n",
              "331           The Chronicles of Narnia: Prince Caspian  ...   NaN\n",
              "390                                    The Lone Ranger  ...   NaN\n",
              "304  The Chronicles of Narnia:The Lion, the Witch a...  ...   NaN\n",
              "\n",
              "[10 rows x 38 columns]"
            ]
          },
          "metadata": {},
          "execution_count": 41
        },
        {
          "output_type": "stream",
          "name": "stdout",
          "text": [
            "Warning: Total number of columns (38) exceeds max_columns (20) limiting to first (20) columns.\n"
          ]
        }
      ],
      "source": [
        "# Sorting values on the basis of 'Running Time (int)'\n",
        "\n",
        "running_time = df.sort_values(['Running time (int)'], ascending=False)\n",
        "running_time.head(10)"
      ]
    },
    {
      "cell_type": "markdown",
      "source": [
        "***************************************\n",
        "\n",
        "**So, Finally we have a huge data set of all the movies from Disney and it's necesarry information.**\n",
        "\n",
        "We are ready to go forward and analyze/visualize the data on our parameters\n",
        "\n",
        "****************************************"
      ],
      "metadata": {
        "id": "bMq2kUWZGCva"
      },
      "id": "bMq2kUWZGCva"
    }
  ],
  "metadata": {
    "kernelspec": {
      "display_name": "Python 3 (ipykernel)",
      "language": "python",
      "name": "python3"
    },
    "language_info": {
      "codemirror_mode": {
        "name": "ipython",
        "version": 3
      },
      "file_extension": ".py",
      "mimetype": "text/x-python",
      "name": "python",
      "nbconvert_exporter": "python",
      "pygments_lexer": "ipython3",
      "version": "3.10.1"
    },
    "colab": {
      "name": "Disney_allmovie_data_final.ipynb",
      "provenance": [],
      "collapsed_sections": [],
      "include_colab_link": true
    }
  },
  "nbformat": 4,
  "nbformat_minor": 5
}